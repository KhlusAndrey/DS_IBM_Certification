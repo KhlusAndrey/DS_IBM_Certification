{
 "cells": [
  {
   "cell_type": "markdown",
   "metadata": {},
   "source": [
    "<img src=\"https://cf-courses-data.s3.us.cloud-object-storage.appdomain.cloud/IBMDeveloperSkillsNetwork-DL0120EN-SkillsNetwork/images/IDSN-logo.png\" width=\"300\" alt=\"cognitiveclass.ai logo\">\n",
    "\n",
    "<h1 align=\"center\"><font size=\"5\">RECURRENT NETWORKS and LSTM IN DEEP LEARNING</font></h1>\n"
   ]
  },
  {
   "cell_type": "markdown",
   "metadata": {},
   "source": [
    "Estimated time needed: **30** minutes\n"
   ]
  },
  {
   "cell_type": "markdown",
   "metadata": {},
   "source": [
    "<h2>Applying Recurrent Neural Networks/LSTM for Language Modeling</h2>\n",
    "Hello and welcome to this part. In this notebook, we will go over the topic of Language Modelling, and create a Recurrent Neural Network model based on the Long Short-Term Memory unit to train and benchmark on the Penn Treebank dataset. By the end of this notebook, you should be able to understand how TensorFlow builds and executes a RNN model for Language Modelling.\n"
   ]
  },
  {
   "cell_type": "markdown",
   "metadata": {},
   "source": [
    "<h2>The Objective</h2>\n",
    "By now, you should have an understanding of how Recurrent Networks work -- a specialized model to process sequential data by keeping track of the \"state\" or context. In this notebook, we go over a TensorFlow code snippet for creating a model focused on <b>Language Modelling</b> -- a very relevant task that is the cornerstone of many different linguistic problems such as <b>Speech Recognition, Machine Translation and Image Captioning</b>. For this, we will be using the Penn Treebank dataset, which is an often-used dataset for benchmarking Language Modelling models.\n"
   ]
  },
  {
   "cell_type": "markdown",
   "metadata": {},
   "source": [
    "\n",
    "<h2>Table of Contents</h2>\n",
    "<ol>\n",
    "    <li><a href=\"#language_modelling\">What exactly is Language Modelling?</a></li>\n",
    "    <li><a href=\"#treebank_dataset\">The Penn Treebank dataset</a></li>\n",
    "    <li><a href=\"#word_embedding\">Word Embedding</a></li>\n",
    "    <li><a href=\"#building_lstm_model\">Building the LSTM model for Language Modeling</a></li>\n",
    "    <li><a href=\"#ltsm\">LTSM</a></li>\n",
    "</ol>\n",
    "<p></p>\n",
    "</div>\n",
    "<br>\n"
   ]
  },
  {
   "cell_type": "markdown",
   "metadata": {},
   "source": [
    "--------\n"
   ]
  },
  {
   "cell_type": "markdown",
   "metadata": {},
   "source": [
    "<a id=\"language_modelling\"></a>\n",
    "<h2>What exactly is Language Modelling?</h2>\n",
    "Language Modelling, to put it simply, <b>is the task of assigning probabilities to sequences of words</b>. This means that, given a context of one or a sequence of words in the language the model was trained on, the model should provide the next most probable words or sequence of words that follows from the given sequence of words the sentence. Language Modelling is one of the most important tasks in Natural Language Processing.\n",
    "\n",
    "<img src=\"https://ibm.box.com/shared/static/1d1i5gub6wljby2vani2vzxp0xsph702.png\" width=\"1080\">\n",
    "<center><i>Example of a sentence being predicted</i></center>\n",
    "<br><br>\n",
    "In this example, one can see the predictions for the next word of a sentence, given the context \"This is an\". As you can see, this boils down to a sequential data analysis task -- you are given a word or a sequence of words (the input data), and, given the context (the state), you need to find out what is the next word (the prediction). This kind of analysis is very important for language-related tasks such as <b>Speech Recognition, Machine Translation, Image Captioning, Text Correction</b> and many other very relevant problems. \n",
    "\n",
    "<img src=\"https://ibm.box.com/shared/static/az39idf9ipfdpc5ugifpgxnydelhyf3i.png\" width=\"1080\">\n",
    "<center><i>The above example is a schema of an RNN in execution</i></center>\n",
    "<br><br>\n",
    "As the above image shows, Recurrent Network models fit this problem like a glove. Alongside LSTM and its capacity to maintain the model's state for over one thousand time steps, we have all the tools we need to undertake this problem. The goal for this notebook is to create a model that can reach <b>low levels of perplexity</b> on our desired dataset.\n",
    "\n",
    "For Language Modelling problems, <b>perplexity</b> is the way to gauge efficiency. Perplexity is simply a measure of how well a probabilistic model is able to predict its sample. A higher-level way to explain this would be saying that <b>low perplexity means a higher degree of trust in the predictions the model makes</b>. Therefore, the lower perplexity is, the better.\n"
   ]
  },
  {
   "cell_type": "markdown",
   "metadata": {},
   "source": [
    "<a id=\"treebank_dataset\"></a>\n",
    "<h2>The Penn Treebank dataset</h2>\n",
    "Historically, datasets big enough for Natural Language Processing are hard to come by. This is in part due to the necessity of the sentences to be broken down and tagged with a certain degree of correctness -- or else the models trained on it won't be able to be correct at all. This means that we need a <b>large amount of data, annotated by or at least corrected by humans</b>. This is, of course, not an easy task at all.\n",
    "\n",
    "The Penn Treebank, or PTB for short, is a dataset maintained by the University of Pennsylvania. It is <i>huge</i> -- there are over <b>four million and eight hundred thousand</b> annotated words in it, all corrected by humans. It is composed of many different sources, from abstracts of Department of Energy papers to texts from the Library of America. Since it is verifiably correct and of such a huge size, the Penn Treebank is commonly used as a benchmark dataset for Language Modelling.\n",
    "\n",
    "The dataset is divided in different kinds of annotations, such as Piece-of-Speech, Syntactic and Semantic skeletons. For this example, we will simply use a sample of clean, non-annotated words (with the exception of one tag --<code>&lt;unk&gt;</code>\n",
    ", which is used for rare words such as uncommon proper nouns) for our model. This means that we just want to predict what the next words would be, not what they mean in context or their classes on a given sentence.\n",
    "\n",
    "<center>Example of text from the dataset we are going to use, <b>ptb.train</b></center>\n",
    "<br><br>\n",
    "\n",
    "<div class=\"alert alert-block alert-info\" style=\"margin-top: 20px\">\n",
    "    <center>the percentage of lung cancer deaths among the workers at the west <code>&lt;unk&gt;</code> mass. paper factory appears to be the highest for any asbestos workers studied in western industrialized countries he said \n",
    " the plant which is owned by <code>&lt;unk&gt;</code> & <code>&lt;unk&gt;</code> co. was under contract with <code>&lt;unk&gt;</code> to make the cigarette filters \n",
    " the finding probably will support those who argue that the U.S. should regulate the class of asbestos including <code>&lt;unk&gt;</code> more <code>&lt;unk&gt;</code> than the common kind of asbestos <code>&lt;unk&gt;</code> found in most schools and other buildings dr. <code>&lt;unk&gt;</code> said</center>\n",
    "</div>\n"
   ]
  },
  {
   "cell_type": "markdown",
   "metadata": {},
   "source": [
    "<a id=\"word_embedding\"></a>\n",
    "<h2>Word Embeddings</h2><br/>\n",
    "\n",
    "For better processing, in this example, we will make use of <a href=\"https://www.tensorflow.org/tutorials/word2vec/?utm_medium=Exinfluencer&utm_source=Exinfluencer&utm_content=000026UJ&utm_term=10006555&utm_id=NA-SkillsNetwork-Channel-SkillsNetworkCoursesIBMDeveloperSkillsNetworkDL0120ENSkillsNetwork954-2023-01-01\"><b>word embeddings</b></a>, which is <b>a way of representing sentence structures or words as n-dimensional vectors (where n is a reasonably high number, such as 200 or 500) of real numbers</b>. Basically, we will assign each word a randomly-initialized vector, and input those into the network to be processed. After a number of iterations, these vectors are expected to assume values that help the network to correctly predict what it needs to -- in our case, the probable next word in the sentence. This is shown to be a very effective task in Natural Language Processing, and is a commonplace practice.\n",
    "<br><br>\n",
    "<font size=\"4\"><strong>\n",
    "$$Vec(\"Example\") = [0.02, 0.00, 0.00, 0.92, 0.30, \\ldots]$$\n",
    "</strong></font>\n",
    "<br>\n",
    "Word Embedding tends to group up similarly used words <i>reasonably</i> close together in the vectorial space. For example, if we use T-SNE (a dimensional reduction visualization algorithm) to flatten the dimensions of our vectors into a 2-dimensional space and plot these words in a 2-dimensional space, we might see something like this:\n",
    "\n",
    "<img src=\"https://ibm.box.com/shared/static/bqhc5dg879gcoabzhxra1w8rkg3od1cu.png\" width=\"800\">\n",
    "<center><i>T-SNE Mockup with clusters marked for easier visualization</i></center>\n",
    "<br><br>\n",
    "As you can see, words that are frequently used together, in place of each other, or in the same places as them tend to be grouped together -- being closer together the higher they are correlated. For example, \"None\" is pretty semantically close to \"Zero\", while a phrase that uses \"Italy\", you could probably also fit \"Germany\" in it, with little damage to the sentence structure. The vectorial \"closeness\" for similar words like this is a great indicator of a well-built model.\n",
    "\n",
    "<hr>\n",
    " \n"
   ]
  },
  {
   "cell_type": "markdown",
   "metadata": {},
   "source": [
    "We need to import the necessary modules for our code. We need <b><code>numpy</code></b> and <b><code>tensorflow</code></b>, obviously. Additionally, we can import directly the <b><code>tensorflow.models.rnn</code></b> model, which includes the function for building RNNs, and <b><code>tensorflow.models.rnn.ptb.reader</code></b> which is the helper module for getting the input data from the dataset we just downloaded.\n",
    "\n",
    "If you want to learn more take a look at https://github.com/tensorflow/models/blob/master/tutorials/rnn/ptb/reader.py\n"
   ]
  },
  {
   "cell_type": "code",
   "execution_count": null,
   "metadata": {},
   "outputs": [],
   "source": [
    "!pip install tensorflow==2.9.0\n",
    "!pip install numpy==1.21.4\n"
   ]
  },
  {
   "cell_type": "code",
   "execution_count": 6,
   "metadata": {
    "tags": []
   },
   "outputs": [],
   "source": [
    "import time\n",
    "import numpy as np\n",
    "import tensorflow as tf\n",
    "if not tf.__version__ == '2.9.0':\n",
    "    print(tf.__version__)\n",
    "    raise ValueError('please upgrade to TensorFlow 2.9.0, or restart your Kernel (Kernel->Restart & Clear Output)')"
   ]
  },
  {
   "cell_type": "markdown",
   "metadata": {},
   "source": [
    "IMPORTANT! => Please restart the kernel by clicking on \"Kernel\"->\"Restart and Clear Outout\" and wait until all output disapears. Then your changes are beeing picked up\n"
   ]
  },
  {
   "cell_type": "code",
   "execution_count": 7,
   "metadata": {},
   "outputs": [],
   "source": [
    "!mkdir data\n",
    "!mkdir data/ptb\n",
    "!wget -q -O data/ptb/reader.py https://cf-courses-data.s3.us.cloud-object-storage.appdomain.cloud/IBMDeveloperSkillsNetwork-DL0120EN-SkillsNetwork/labs/Week3/data/ptb/reader.py\n",
    "!cp data/ptb/reader.py .\n",
    "\n"
   ]
  },
  {
   "cell_type": "code",
   "execution_count": 8,
   "metadata": {},
   "outputs": [],
   "source": [
    "# Copyright 2015 The TensorFlow Authors. All Rights Reserved.\n",
    "#\n",
    "# Licensed under the Apache License, Version 2.0 (the \"License\");\n",
    "# you may not use this file except in compliance with the License.\n",
    "# You may obtain a copy of the License at\n",
    "#\n",
    "#     http://www.apache.org/licenses/LICENSE-2.0\n",
    "#\n",
    "# Unless required by applicable law or agreed to in writing, software\n",
    "# distributed under the License is distributed on an \"AS IS\" BASIS,\n",
    "# WITHOUT WARRANTIES OR CONDITIONS OF ANY KIND, either express or implied.\n",
    "# See the License for the specific language governing permissions and\n",
    "# limitations under the License.\n",
    "# ==============================================================================\n",
    "\n",
    "\n",
    "\"\"\"Utilities for parsing PTB text files.\"\"\"\n",
    "from __future__ import absolute_import\n",
    "from __future__ import division\n",
    "from __future__ import print_function\n",
    "\n",
    "import collections\n",
    "import os\n",
    "\n",
    "import numpy as np\n",
    "import tensorflow as tf\n",
    "\n",
    "\n",
    "def _read_words(filename):\n",
    "  with tf.io.gfile.GFile(filename, \"r\") as f:\n",
    "    return f.read().replace(\"\\n\", \"<eos>\").split()\n",
    "\n",
    "\n",
    "def _build_vocab(filename):\n",
    "  data = _read_words(filename)\n",
    "\n",
    "  counter = collections.Counter(data)\n",
    "  count_pairs = sorted(counter.items(), key=lambda x: (-x[1], x[0]))\n",
    "\n",
    "  words, _ = list(zip(*count_pairs))\n",
    "  word_to_id = dict(zip(words, range(len(words))))\n",
    "\n",
    "  return word_to_id\n",
    "\n",
    "\n",
    "def _file_to_word_ids(filename, word_to_id):\n",
    "  data = _read_words(filename)\n",
    "  return [word_to_id[word] for word in data if word in word_to_id]\n",
    "\n",
    "\n",
    "def ptb_raw_data(data_path=None):\n",
    "  \"\"\"Load PTB raw data from data directory \"data_path\".\n",
    "\n",
    "  Reads PTB text files, converts strings to integer ids,\n",
    "  and performs mini-batching of the inputs.\n",
    "\n",
    "  The PTB dataset comes from Tomas Mikolov's webpage:\n",
    "\n",
    "  http://www.fit.vutbr.cz/~imikolov/rnnlm/simple-examples.tgz\n",
    "\n",
    "  Args:\n",
    "    data_path: string path to the directory where simple-examples.tgz has\n",
    "      been extracted.\n",
    "\n",
    "  Returns:\n",
    "    tuple (train_data, valid_data, test_data, vocabulary)\n",
    "    where each of the data objects can be passed to PTBIterator.\n",
    "  \"\"\"\n",
    "\n",
    "  train_path = os.path.join(data_path, \"ptb.train.txt\")\n",
    "  valid_path = os.path.join(data_path, \"ptb.valid.txt\")\n",
    "  test_path = os.path.join(data_path, \"ptb.test.txt\")\n",
    "\n",
    "  word_to_id = _build_vocab(train_path)\n",
    "  train_data = _file_to_word_ids(train_path, word_to_id)\n",
    "  valid_data = _file_to_word_ids(valid_path, word_to_id)\n",
    "  test_data = _file_to_word_ids(test_path, word_to_id)\n",
    "  vocabulary = len(word_to_id)\n",
    "  return train_data, valid_data, test_data, vocabulary, word_to_id\n",
    "\n",
    "\n",
    "def ptb_iterator(raw_data, batch_size, num_steps):\n",
    "  \"\"\"Iterate on the raw PTB data.\n",
    "\n",
    "  This generates batch_size pointers into the raw PTB data, and allows\n",
    "  minibatch iteration along these pointers.\n",
    "\n",
    "  Args:\n",
    "    raw_data: one of the raw data outputs from ptb_raw_data.\n",
    "    batch_size: int, the batch size.\n",
    "    num_steps: int, the number of unrolls.\n",
    "\n",
    "  Yields:\n",
    "    Pairs of the batched data, each a matrix of shape [batch_size, num_steps].\n",
    "    The second element of the tuple is the same data time-shifted to the\n",
    "    right by one.\n",
    "\n",
    "  Raises:\n",
    "    ValueError: if batch_size or num_steps are too high.\n",
    "  \"\"\"\n",
    "  raw_data = np.array(raw_data, dtype=np.int32)\n",
    "\n",
    "  data_len = len(raw_data)\n",
    "  batch_len = data_len // batch_size\n",
    "  data = np.zeros([batch_size, batch_len], dtype=np.int32)\n",
    "  for i in range(batch_size):\n",
    "    data[i] = raw_data[batch_len * i:batch_len * (i + 1)]\n",
    "\n",
    "  epoch_size = (batch_len - 1) // num_steps\n",
    "\n",
    "  if epoch_size == 0:\n",
    "    raise ValueError(\"epoch_size == 0, decrease batch_size or num_steps\")\n",
    "\n",
    "  for i in range(epoch_size):\n",
    "    x = data[:, i*num_steps:(i+1)*num_steps]\n",
    "    y = data[:, i*num_steps+1:(i+1)*num_steps+1]\n",
    "    yield (x, y)"
   ]
  },
  {
   "cell_type": "markdown",
   "metadata": {},
   "source": [
    "<a id=\"building_lstm_model\"></a>\n",
    "<h2>Building the LSTM model for Language Modeling</h2>\n",
    "Now that we know exactly what we are doing, we can start building our model using TensorFlow. The very first thing we need to do is download and extract the <code>simple-examples</code> dataset, which can be done by executing the code cell below.\n"
   ]
  },
  {
   "cell_type": "code",
   "execution_count": 9,
   "metadata": {},
   "outputs": [
    {
     "name": "stdout",
     "output_type": "stream",
     "text": [
      "--2023-10-26 09:59:09--  http://www.fit.vutbr.cz/~imikolov/rnnlm/simple-examples.tgz\n",
      "Resolving www.fit.vutbr.cz (www.fit.vutbr.cz)... 147.229.9.23, 2001:67c:1220:809::93e5:917\n",
      "Connecting to www.fit.vutbr.cz (www.fit.vutbr.cz)|147.229.9.23|:80... connected.\n",
      "HTTP request sent, awaiting response... 200 OK\n",
      "Length: 34869662 (33M) [application/x-gtar]\n",
      "Saving to: ‘simple-examples.tgz.1’\n",
      "\n",
      "simple-examples.tgz 100%[===================>]  33.25M  9.19MB/s    in 4.0s    \n",
      "\n",
      "2023-10-26 09:59:14 (8.23 MB/s) - ‘simple-examples.tgz.1’ saved [34869662/34869662]\n",
      "\n"
     ]
    }
   ],
   "source": [
    "!wget http://www.fit.vutbr.cz/~imikolov/rnnlm/simple-examples.tgz \n",
    "!tar xzf simple-examples.tgz -C data/"
   ]
  },
  {
   "cell_type": "markdown",
   "metadata": {},
   "source": [
    "Additionally, for the sake of making it easy to play around with the model's hyperparameters, we can declare them beforehand. Feel free to change these -- you will see a difference in performance each time you change those!  \n"
   ]
  },
  {
   "cell_type": "code",
   "execution_count": 10,
   "metadata": {},
   "outputs": [],
   "source": [
    "#Initial weight scale\n",
    "init_scale = 0.1\n",
    "#Initial learning rate\n",
    "learning_rate = 1.0\n",
    "#Maximum permissible norm for the gradient (For gradient clipping -- another measure against Exploding Gradients)\n",
    "max_grad_norm = 5\n",
    "#The number of layers in our model\n",
    "num_layers = 2\n",
    "#The total number of recurrence steps, also known as the number of layers when our RNN is \"unfolded\"\n",
    "num_steps = 20\n",
    "#The number of processing units (neurons) in the hidden layers\n",
    "hidden_size_l1 = 256\n",
    "hidden_size_l2 = 128\n",
    "#The maximum number of epochs trained with the initial learning rate\n",
    "max_epoch_decay_lr = 4\n",
    "#The total number of epochs in training\n",
    "max_epoch = 15\n",
    "#The probability for keeping data in the Dropout Layer (This is an optimization, but is outside our scope for this notebook!)\n",
    "#At 1, we ignore the Dropout Layer wrapping.\n",
    "keep_prob = 1\n",
    "#The decay for the learning rate\n",
    "decay = 0.5\n",
    "#The size for each batch of data\n",
    "batch_size = 30\n",
    "#The size of our vocabulary\n",
    "vocab_size = 10000\n",
    "embeding_vector_size= 200\n",
    "#Training flag to separate training from testing\n",
    "is_training = 1\n",
    "#Data directory for our dataset\n",
    "data_dir = \"data/simple-examples/data/\""
   ]
  },
  {
   "cell_type": "markdown",
   "metadata": {},
   "source": [
    "Some clarifications for LSTM architecture based on the arguments:\n",
    "\n",
    "Network structure:\n",
    "<ul>\n",
    "    <li>In this network, the number of LSTM cells are 2. To give the model more expressive power, we can add multiple layers of LSTMs to process the data. The output of the first layer will become the input of the second and so on.\n",
    "    </li>\n",
    "    <li>The recurrence steps is 20, that is, when our RNN is \"Unfolded\", the recurrence step is 20.</li>   \n",
    "    <li>the structure is like:\n",
    "        <ul>\n",
    "            <li>200 input units -> [200x200] Weight -> 200 Hidden units (first layer) -> [200x200] Weight matrix  -> 200 Hidden units (second layer) ->  [200] weight Matrix -> 200 unit output</li>\n",
    "        </ul>\n",
    "    </li>\n",
    "</ul>\n",
    "<br>\n",
    "\n",
    "Input layer: \n",
    "<ul>\n",
    "    <li>The network has 200 input units.</li>\n",
    "    <li>Suppose each word is represented by an embedding vector of dimensionality e=200. The input layer of each cell will have 200 linear units. These e=200 linear units are connected to each of the h=200 LSTM units in the hidden layer (assuming there is only one hidden layer, though our case has 2 layers).\n",
    "    </li>\n",
    "    <li>The input shape is [batch_size, num_steps], that is [30x20]. It will turn into [30x20x200] after embedding, and then 20x[30x200]\n",
    "    </li>\n",
    "</ul>\n",
    "<br>\n",
    "\n",
    "Hidden layer:\n",
    "<ul>\n",
    "    <li>Each LSTM has 200 hidden units which is equivalent to the dimensionality of the embedding words and output.</li>\n",
    "</ul>\n",
    "<br>\n"
   ]
  },
  {
   "cell_type": "markdown",
   "metadata": {},
   "source": [
    "There is a lot to be done and a ton of information to process at the same time, so go over this code slowly. It may seem complex at first, but if you try to apply what you just learned about language modelling to the code you see, you should be able to understand it.\n",
    "\n",
    "This code is adapted from the <a href=\"https://github.com/tensorflow/models\">PTBModel</a> example bundled with the TensorFlow source code.\n",
    "\n",
    "\n",
    "<h3>Training data</h3>\n",
    "The story starts from data:\n",
    "<ul>\n",
    "    <li>Train data is a list of words, of size 929589, represented by numbers, e.g. [9971, 9972, 9974, 9975,...]</li>\n",
    "    <li>We read data as mini-batch of size b=30. Assume the size of each sentence is 20 words (num_steps = 20). Then it will take $$floor(\\frac{N}{b \\times h})+1=1548$$ iterations for the learner to go through all sentences once. Where N is the size of the list of words, b is batch size, and h is size of each sentence. So, the number of iterators is 1548\n",
    "    </li>\n",
    "    <li>Each batch data is read from train dataset of size 600, and shape of [30x20]</li>\n",
    "</ul>\n"
   ]
  },
  {
   "cell_type": "code",
   "execution_count": 11,
   "metadata": {},
   "outputs": [],
   "source": [
    "# Reads the data and separates it into training data, validation data and testing data\n",
    "raw_data = ptb_raw_data(data_dir)\n",
    "train_data, valid_data, test_data, vocab, word_to_id = raw_data"
   ]
  },
  {
   "cell_type": "code",
   "execution_count": 12,
   "metadata": {},
   "outputs": [
    {
     "data": {
      "text/plain": [
       "929589"
      ]
     },
     "execution_count": 12,
     "metadata": {},
     "output_type": "execute_result"
    }
   ],
   "source": [
    "len(train_data)"
   ]
  },
  {
   "cell_type": "code",
   "execution_count": 13,
   "metadata": {},
   "outputs": [
    {
     "name": "stdout",
     "output_type": "stream",
     "text": [
      "['aer', 'banknote', 'berlitz', 'calloway', 'centrust', 'cluett', 'fromstein', 'gitano', 'guterman', 'hydro-quebec', 'ipo', 'kia', 'memotec', 'mlx', 'nahb', 'punts', 'rake', 'regatta', 'rubens', 'sim', 'snack-food', 'ssangyong', 'swapo', 'wachter', '<eos>', 'pierre', '<unk>', 'N', 'years', 'old', 'will', 'join', 'the', 'board', 'as', 'a', 'nonexecutive', 'director', 'nov.', 'N', '<eos>', 'mr.', '<unk>', 'is', 'chairman', 'of', '<unk>', 'n.v.', 'the', 'dutch', 'publishing', 'group', '<eos>', 'rudolph', '<unk>', 'N', 'years', 'old', 'and', 'former', 'chairman', 'of', 'consolidated', 'gold', 'fields', 'plc', 'was', 'named', 'a', 'nonexecutive', 'director', 'of', 'this', 'british', 'industrial', 'conglomerate', '<eos>', 'a', 'form', 'of', 'asbestos', 'once', 'used', 'to', 'make', 'kent', 'cigarette', 'filters', 'has', 'caused', 'a', 'high', 'percentage', 'of', 'cancer', 'deaths', 'among', 'a', 'group', 'of']\n"
     ]
    }
   ],
   "source": [
    "def id_to_word(id_list):\n",
    "    line = []\n",
    "    for w in id_list:\n",
    "        for word, wid in word_to_id.items():\n",
    "            if wid == w:\n",
    "                line.append(word)\n",
    "    return line            \n",
    "                \n",
    "\n",
    "print(id_to_word(train_data[0:100]))"
   ]
  },
  {
   "cell_type": "markdown",
   "metadata": {},
   "source": [
    "Lets just read one mini-batch now and feed our network:\n"
   ]
  },
  {
   "cell_type": "code",
   "execution_count": 14,
   "metadata": {},
   "outputs": [],
   "source": [
    "itera = ptb_iterator(train_data, batch_size, num_steps)\n",
    "first_touple = itera.__next__()\n",
    "_input_data = first_touple[0]\n",
    "_targets = first_touple[1]"
   ]
  },
  {
   "cell_type": "code",
   "execution_count": 15,
   "metadata": {},
   "outputs": [
    {
     "data": {
      "text/plain": [
       "(30, 20)"
      ]
     },
     "execution_count": 15,
     "metadata": {},
     "output_type": "execute_result"
    }
   ],
   "source": [
    "_input_data.shape"
   ]
  },
  {
   "cell_type": "code",
   "execution_count": 16,
   "metadata": {},
   "outputs": [
    {
     "data": {
      "text/plain": [
       "(30, 20)"
      ]
     },
     "execution_count": 16,
     "metadata": {},
     "output_type": "execute_result"
    }
   ],
   "source": [
    "_targets.shape"
   ]
  },
  {
   "cell_type": "markdown",
   "metadata": {},
   "source": [
    "Lets look at 3 sentences of our input x:\n"
   ]
  },
  {
   "cell_type": "code",
   "execution_count": 17,
   "metadata": {},
   "outputs": [
    {
     "data": {
      "text/plain": [
       "array([[9970, 9971, 9972, 9974, 9975, 9976, 9980, 9981, 9982, 9983, 9984,\n",
       "        9986, 9987, 9988, 9989, 9991, 9992, 9993, 9994, 9995],\n",
       "       [2654,    6,  334, 2886,    4,    1,  233,  711,  834,   11,  130,\n",
       "         123,    7,  514,    2,   63,   10,  514,    8,  605],\n",
       "       [   0, 1071,    4,    0,  185,   24,  368,   20,   31, 3109,  954,\n",
       "          12,    3,   21,    2, 2915,    2,   12,    3,   21]],\n",
       "      dtype=int32)"
      ]
     },
     "execution_count": 17,
     "metadata": {},
     "output_type": "execute_result"
    }
   ],
   "source": [
    "_input_data[0:3]"
   ]
  },
  {
   "cell_type": "code",
   "execution_count": 18,
   "metadata": {},
   "outputs": [
    {
     "name": "stdout",
     "output_type": "stream",
     "text": [
      "['aer', 'banknote', 'berlitz', 'calloway', 'centrust', 'cluett', 'fromstein', 'gitano', 'guterman', 'hydro-quebec', 'ipo', 'kia', 'memotec', 'mlx', 'nahb', 'punts', 'rake', 'regatta', 'rubens', 'sim']\n"
     ]
    }
   ],
   "source": [
    "print(id_to_word(_input_data[0,:]))"
   ]
  },
  {
   "cell_type": "markdown",
   "metadata": {},
   "source": [
    "<h3>Embeddings</h3>\n",
    "We have to convert the words in our dataset to vectors of numbers. The traditional approach is to use one-hot encoding method that is usually used for converting categorical values to numerical values. However, One-hot encoded vectors are high-dimensional, sparse and in a big dataset, computationally inefficient. So, we use word2vec approach. It is, in fact, a layer in our LSTM network, where the word IDs will be represented as a dense representation before feeding to the LSTM. \n",
    "\n",
    "The embedded vectors also get updated during the training process of the deep neural network.\n",
    "We create the embeddings for our input data. <b>embedding_vocab</b> is matrix of [10000x200] for all 10000 unique words.\n"
   ]
  },
  {
   "cell_type": "markdown",
   "metadata": {},
   "source": [
    "<b>embedding_lookup()</b> finds the embedded values for our batch of 30x20 words. It  goes to each row of <code>input_data</code>, and for each word in the row/sentence, finds the correspond vector in <code>embedding_dic<code>. <br>\n",
    "It creates a [30x20x200] tensor, so, the first element of <b>inputs</b> (the first sentence), is a matrix of 20x200, which each row of it, is vector representing a word in the sentence.\n"
   ]
  },
  {
   "cell_type": "code",
   "execution_count": 19,
   "metadata": {},
   "outputs": [],
   "source": [
    "embedding_layer = tf.keras.layers.Embedding(vocab_size, embeding_vector_size,batch_input_shape=(batch_size, num_steps),trainable=True,name=\"embedding_vocab\")  "
   ]
  },
  {
   "cell_type": "code",
   "execution_count": 20,
   "metadata": {},
   "outputs": [
    {
     "name": "stderr",
     "output_type": "stream",
     "text": [
      "2023-10-26 10:00:27.305503: W tensorflow/stream_executor/platform/default/dso_loader.cc:64] Could not load dynamic library 'libcuda.so.1'; dlerror: libcuda.so.1: cannot open shared object file: No such file or directory\n",
      "2023-10-26 10:00:27.305586: W tensorflow/stream_executor/cuda/cuda_driver.cc:269] failed call to cuInit: UNKNOWN ERROR (303)\n",
      "2023-10-26 10:00:27.305657: I tensorflow/stream_executor/cuda/cuda_diagnostics.cc:156] kernel driver does not appear to be running on this host (jupyterlab-khlusmail): /proc/driver/nvidia/version does not exist\n",
      "2023-10-26 10:00:27.306279: I tensorflow/core/platform/cpu_feature_guard.cc:193] This TensorFlow binary is optimized with oneAPI Deep Neural Network Library (oneDNN) to use the following CPU instructions in performance-critical operations:  AVX2 AVX512F AVX512_VNNI FMA\n",
      "To enable them in other operations, rebuild TensorFlow with the appropriate compiler flags.\n"
     ]
    },
    {
     "data": {
      "text/plain": [
       "<tf.Tensor: shape=(30, 20, 200), dtype=float32, numpy=\n",
       "array([[[ 0.01704485, -0.02387024, -0.02962309, ..., -0.02334827,\n",
       "          0.03726523, -0.03197785],\n",
       "        [-0.04917678, -0.00970116,  0.04279374, ..., -0.03149641,\n",
       "          0.04578812,  0.04112952],\n",
       "        [ 0.0134917 , -0.00996965, -0.00567941, ...,  0.03880217,\n",
       "          0.01490149,  0.02593806],\n",
       "        ...,\n",
       "        [ 0.04169759,  0.00626983,  0.00461078, ...,  0.02195675,\n",
       "          0.03965804, -0.03202527],\n",
       "        [ 0.03129819,  0.01076771,  0.00138458, ..., -0.04490197,\n",
       "          0.02276811, -0.01017763],\n",
       "        [-0.03860132, -0.0436872 ,  0.02349762, ...,  0.01582786,\n",
       "          0.03822359, -0.00184228]],\n",
       "\n",
       "       [[ 0.04024888,  0.03025336, -0.0062126 , ...,  0.03944664,\n",
       "          0.00283938, -0.04815607],\n",
       "        [-0.02041868,  0.02558314,  0.03515789, ...,  0.01054438,\n",
       "         -0.03565444,  0.01487209],\n",
       "        [-0.04821299, -0.01124997,  0.01176587, ..., -0.04679121,\n",
       "         -0.00315175, -0.03101178],\n",
       "        ...,\n",
       "        [ 0.00813768,  0.01060405, -0.02238356, ...,  0.04649338,\n",
       "          0.00064272, -0.02465435],\n",
       "        [ 0.0014307 , -0.00291029,  0.03432449, ...,  0.00636653,\n",
       "          0.01742372,  0.03306909],\n",
       "        [ 0.02586987, -0.00026901,  0.03255501, ..., -0.04613136,\n",
       "         -0.00792824,  0.03668065]],\n",
       "\n",
       "       [[ 0.03620944,  0.02009464, -0.03420657, ..., -0.00309336,\n",
       "         -0.01158764, -0.04136221],\n",
       "        [-0.01140417,  0.01717177, -0.02767572, ...,  0.03919612,\n",
       "         -0.03436109,  0.04830015],\n",
       "        [-0.00688083, -0.02870325, -0.01559007, ..., -0.00219654,\n",
       "         -0.02314116,  0.01864609],\n",
       "        ...,\n",
       "        [ 0.03863684, -0.00045415, -0.04788288, ...,  0.03958485,\n",
       "          0.01881835, -0.03694791],\n",
       "        [ 0.01163755, -0.0417056 ,  0.01995524, ...,  0.03009014,\n",
       "          0.03346119, -0.01851504],\n",
       "        [ 0.03127129,  0.01166209, -0.04848605, ...,  0.03488991,\n",
       "         -0.00729639,  0.01405567]],\n",
       "\n",
       "       ...,\n",
       "\n",
       "       [[ 0.0481397 ,  0.02655213,  0.00383265, ..., -0.00382145,\n",
       "          0.04149835,  0.03747343],\n",
       "        [ 0.04682958,  0.04699453, -0.03580315, ..., -0.0356271 ,\n",
       "          0.02142129, -0.03008965],\n",
       "        [-0.04262258,  0.01260079, -0.02566152, ..., -0.04457051,\n",
       "          0.02460159,  0.03537421],\n",
       "        ...,\n",
       "        [-0.02834838, -0.04437345,  0.00711759, ..., -0.01859398,\n",
       "          0.02811745, -0.00697201],\n",
       "        [-0.03492918,  0.01724256,  0.0386004 , ...,  0.00885858,\n",
       "          0.02190838, -0.04395122],\n",
       "        [-0.04164644,  0.03754196, -0.03702534, ...,  0.01922924,\n",
       "         -0.02506878, -0.02348274]],\n",
       "\n",
       "       [[ 0.0136329 ,  0.01305792,  0.04401258, ...,  0.02323264,\n",
       "          0.04679382,  0.01382238],\n",
       "        [-0.03434036, -0.04850721,  0.01642091, ..., -0.01179118,\n",
       "         -0.03130249, -0.02538732],\n",
       "        [-0.00688083, -0.02870325, -0.01559007, ..., -0.00219654,\n",
       "         -0.02314116,  0.01864609],\n",
       "        ...,\n",
       "        [ 0.00037225, -0.02674897,  0.0252717 , ..., -0.01734775,\n",
       "         -0.01164239,  0.00595913],\n",
       "        [-0.02041868,  0.02558314,  0.03515789, ...,  0.01054438,\n",
       "         -0.03565444,  0.01487209],\n",
       "        [ 0.04372447,  0.04021985,  0.01040369, ..., -0.02708711,\n",
       "          0.02426401, -0.02407999]],\n",
       "\n",
       "       [[-0.03448085,  0.0090747 , -0.00767984, ..., -0.02906523,\n",
       "         -0.03770596,  0.04834637],\n",
       "        [ 0.00081409, -0.01598907, -0.03122411, ...,  0.01082627,\n",
       "          0.04949564, -0.04009394],\n",
       "        [ 0.00073762,  0.00228781,  0.00352062, ..., -0.03964434,\n",
       "         -0.04783649,  0.04007766],\n",
       "        ...,\n",
       "        [-0.01437153, -0.00861651,  0.03432003, ..., -0.02546908,\n",
       "          0.01804373,  0.04670659],\n",
       "        [-0.04896234,  0.03909862, -0.00653615, ..., -0.03478833,\n",
       "         -0.01080872,  0.0314442 ],\n",
       "        [ 0.02624616,  0.01835582,  0.04676428, ...,  0.03947407,\n",
       "         -0.0257459 , -0.02379186]]], dtype=float32)>"
      ]
     },
     "execution_count": 20,
     "metadata": {},
     "output_type": "execute_result"
    }
   ],
   "source": [
    "# Define where to get the data for our embeddings from\n",
    "inputs = embedding_layer(_input_data)\n",
    "inputs"
   ]
  },
  {
   "cell_type": "markdown",
   "metadata": {},
   "source": [
    "<h3>Constructing Recurrent Neural Networks</h3>\n"
   ]
  },
  {
   "cell_type": "markdown",
   "metadata": {},
   "source": [
    "In this step, we create the stacked LSTM using <b>tf.keras.layers.StackedRNNCells</b>, which is a 2 layer LSTM network:\n"
   ]
  },
  {
   "cell_type": "code",
   "execution_count": 21,
   "metadata": {},
   "outputs": [],
   "source": [
    "lstm_cell_l1 = tf.keras.layers.LSTMCell(hidden_size_l1)\n",
    "lstm_cell_l2 = tf.keras.layers.LSTMCell(hidden_size_l2)"
   ]
  },
  {
   "cell_type": "code",
   "execution_count": 22,
   "metadata": {},
   "outputs": [],
   "source": [
    "stacked_lstm = tf.keras.layers.StackedRNNCells([lstm_cell_l1, lstm_cell_l2])"
   ]
  },
  {
   "cell_type": "markdown",
   "metadata": {},
   "source": [
    "<b>tf.keras.layers.RNN</b> creates a recurrent neural network using <b>stacked_lstm</b>. \n",
    "\n",
    "The input should be a Tensor of shape: [batch_size, max_time, embedding_vector_size], in our case it would be (30, 20, 200)\n"
   ]
  },
  {
   "cell_type": "code",
   "execution_count": 23,
   "metadata": {},
   "outputs": [],
   "source": [
    "layer  =  tf.keras.layers.RNN(stacked_lstm,[batch_size, num_steps],return_state=False,stateful=True,trainable=True)"
   ]
  },
  {
   "cell_type": "markdown",
   "metadata": {},
   "source": [
    "Also, we initialize the states of the nework:\n",
    "\n",
    "<h4>_initial_state</h4>\n",
    "\n",
    "For each LSTM, there are 2 state matrices, c\\_state and m\\_state.  c_state and m_state represent \"Memory State\" and \"Cell State\". Each hidden layer, has a vector of size 30, which keeps the states. so, for 200 hidden units in each LSTM, we have a matrix of size [30x200]\n"
   ]
  },
  {
   "cell_type": "code",
   "execution_count": 24,
   "metadata": {},
   "outputs": [],
   "source": [
    "init_state = tf.Variable(tf.zeros([batch_size,embeding_vector_size]),trainable=False)"
   ]
  },
  {
   "cell_type": "code",
   "execution_count": 25,
   "metadata": {},
   "outputs": [],
   "source": [
    "layer.inital_state = init_state"
   ]
  },
  {
   "cell_type": "code",
   "execution_count": 26,
   "metadata": {},
   "outputs": [
    {
     "data": {
      "text/plain": [
       "<tf.Variable 'Variable:0' shape=(30, 200) dtype=float32, numpy=\n",
       "array([[0., 0., 0., ..., 0., 0., 0.],\n",
       "       [0., 0., 0., ..., 0., 0., 0.],\n",
       "       [0., 0., 0., ..., 0., 0., 0.],\n",
       "       ...,\n",
       "       [0., 0., 0., ..., 0., 0., 0.],\n",
       "       [0., 0., 0., ..., 0., 0., 0.],\n",
       "       [0., 0., 0., ..., 0., 0., 0.]], dtype=float32)>"
      ]
     },
     "execution_count": 26,
     "metadata": {},
     "output_type": "execute_result"
    }
   ],
   "source": [
    "layer.inital_state"
   ]
  },
  {
   "cell_type": "markdown",
   "metadata": {},
   "source": [
    "so, lets look at the outputs. The output of the stackedLSTM comes from 128 hidden_layer, and in each time step(=20), one of them get activated. we use the linear activation to map the 128 hidden layer to a [30X20 matrix]\n"
   ]
  },
  {
   "cell_type": "code",
   "execution_count": 27,
   "metadata": {},
   "outputs": [],
   "source": [
    "outputs = layer(inputs)"
   ]
  },
  {
   "cell_type": "code",
   "execution_count": 28,
   "metadata": {},
   "outputs": [
    {
     "data": {
      "text/plain": [
       "<tf.Tensor: shape=(30, 20, 128), dtype=float32, numpy=\n",
       "array([[[ 2.6324944e-04,  5.1511801e-04, -2.3941827e-04, ...,\n",
       "          8.8987849e-04,  5.1954115e-04,  3.3021884e-04],\n",
       "        [ 2.2084606e-04,  1.3977421e-03, -1.6453688e-04, ...,\n",
       "          4.7740317e-04,  1.5310503e-03, -1.7516232e-04],\n",
       "        [ 1.4724992e-03,  3.1602031e-03, -1.5893289e-04, ...,\n",
       "         -1.0104605e-03,  2.6357577e-03, -1.1305489e-03],\n",
       "        ...,\n",
       "        [ 2.0806452e-05,  6.6846786e-03,  4.8632887e-03, ...,\n",
       "          6.3033677e-03,  9.4413408e-04,  2.3000003e-03],\n",
       "        [-7.1423297e-04,  6.8414239e-03,  6.7642187e-03, ...,\n",
       "          4.5363633e-03,  1.2898529e-03,  3.2285636e-03],\n",
       "        [-6.3506444e-04,  6.8217176e-03,  8.0286274e-03, ...,\n",
       "          3.5621335e-03,  3.8503634e-04,  2.8149269e-03]],\n",
       "\n",
       "       [[ 3.9657007e-04, -1.3568770e-03,  1.0588309e-03, ...,\n",
       "         -8.5227954e-04, -3.5992515e-04,  2.1978498e-04],\n",
       "        [ 1.1838439e-03, -2.6645279e-03,  2.4693948e-03, ...,\n",
       "         -1.8366954e-03, -1.0657384e-03,  9.2214155e-05],\n",
       "        [ 1.8482796e-03, -3.7637409e-03,  4.1992115e-03, ...,\n",
       "         -3.2253964e-03, -1.4021999e-03,  1.5178380e-03],\n",
       "        ...,\n",
       "        [ 2.5995572e-03, -6.4167293e-04, -6.5656831e-03, ...,\n",
       "         -1.1435658e-03, -4.1417554e-03, -5.1186620e-03],\n",
       "        [ 2.3111179e-03, -1.5107593e-03, -6.7389598e-03, ...,\n",
       "         -8.4258971e-04, -5.5716755e-03, -6.5621976e-03],\n",
       "        [ 1.6881436e-03, -2.8573812e-03, -7.2779437e-03, ...,\n",
       "          5.4994586e-04, -4.6199225e-03, -7.5904494e-03]],\n",
       "\n",
       "       [[-1.2246670e-03, -9.3664512e-06, -1.2972048e-03, ...,\n",
       "         -1.3619706e-03,  2.1480266e-03,  6.6719617e-04],\n",
       "        [-1.6175738e-03, -8.0233417e-04, -1.9755596e-03, ...,\n",
       "         -2.2169738e-03,  4.3897360e-04,  3.3652046e-04],\n",
       "        [-1.7710477e-03, -1.2730348e-03, -1.7349449e-03, ...,\n",
       "         -2.3885584e-03, -7.2526258e-05, -1.9330620e-03],\n",
       "        ...,\n",
       "        [ 9.9793263e-04,  9.3342625e-03, -5.2937060e-03, ...,\n",
       "         -4.1636908e-03,  4.5275129e-03, -1.5385747e-03],\n",
       "        [ 2.2931525e-04,  1.0026015e-02, -5.9281602e-03, ...,\n",
       "         -4.2087534e-03,  3.9575971e-03, -1.6043056e-04],\n",
       "        [ 7.2965410e-04,  1.1431810e-02, -5.9915143e-03, ...,\n",
       "         -3.5898790e-03,  3.1508105e-03, -1.0578474e-03]],\n",
       "\n",
       "       ...,\n",
       "\n",
       "       [[-4.9233091e-05, -1.5513932e-04, -3.6167679e-04, ...,\n",
       "          9.4256439e-04, -5.8714068e-04,  9.2589989e-04],\n",
       "        [-3.0348659e-04, -9.6114923e-04, -3.2995583e-04, ...,\n",
       "          2.6255832e-03,  6.9602468e-04,  3.0403016e-03],\n",
       "        [-1.4588945e-03, -2.1391818e-03,  2.0795173e-03, ...,\n",
       "          2.9491191e-03, -2.4632082e-04,  4.0965769e-03],\n",
       "        ...,\n",
       "        [-1.6393545e-03,  5.2601337e-03, -3.6171847e-03, ...,\n",
       "         -1.1350109e-03, -3.1593686e-03,  1.2852360e-03],\n",
       "        [-1.9926024e-03,  6.0162484e-03, -4.8435112e-03, ...,\n",
       "         -1.5744065e-03, -3.1964912e-03, -3.3411817e-04],\n",
       "        [-1.6620525e-03,  6.5787984e-03, -3.9688847e-03, ...,\n",
       "          1.2661157e-04, -3.5426251e-03, -4.3087651e-04]],\n",
       "\n",
       "       [[-5.3965025e-05,  6.7026657e-04,  1.4381052e-03, ...,\n",
       "          3.0892843e-04,  4.4932112e-04, -7.5903116e-04],\n",
       "        [ 1.4255978e-03,  2.3008406e-03,  1.0057918e-03, ...,\n",
       "          1.3141362e-03,  6.6128193e-04, -1.5804356e-04],\n",
       "        [ 1.7380823e-03,  3.0442097e-03,  1.1219668e-03, ...,\n",
       "          2.1716957e-03,  1.1472462e-03, -2.0789977e-03],\n",
       "        ...,\n",
       "        [-3.5264336e-03, -5.2442187e-03, -9.5257390e-04, ...,\n",
       "          1.2938955e-03, -1.8964229e-03, -2.9049190e-03],\n",
       "        [-2.8514836e-03, -6.2961229e-03,  2.2350981e-04, ...,\n",
       "          8.7021384e-04, -1.8460283e-03, -1.6012472e-03],\n",
       "        [-1.5762696e-03, -6.4831534e-03,  1.9126259e-03, ...,\n",
       "          6.8194163e-04, -7.6441944e-04, -1.1194480e-03]],\n",
       "\n",
       "       [[ 3.7054456e-04,  1.2349637e-04,  1.3596483e-04, ...,\n",
       "          3.6560046e-05, -4.5648128e-05, -6.8937246e-05],\n",
       "        [ 8.3948876e-04,  1.1397047e-03,  1.5220762e-03, ...,\n",
       "          1.0339372e-03, -5.6273988e-05, -5.5027741e-04],\n",
       "        [-2.3204113e-04,  1.1882179e-03,  3.6614148e-03, ...,\n",
       "          7.6565880e-04, -1.2725485e-03, -3.7039976e-04],\n",
       "        ...,\n",
       "        [ 5.9419492e-04, -5.9048557e-03, -9.6253119e-04, ...,\n",
       "          2.5450599e-03,  2.7076360e-03, -3.3655572e-03],\n",
       "        [-8.5071276e-04, -7.5687282e-03, -2.4730475e-03, ...,\n",
       "          1.3414823e-03,  2.3402767e-03, -2.5419882e-03],\n",
       "        [-1.0242462e-03, -5.8524068e-03, -4.4699390e-03, ...,\n",
       "          8.5586467e-04,  3.0754213e-03, -1.7734343e-03]]], dtype=float32)>"
      ]
     },
     "execution_count": 28,
     "metadata": {},
     "output_type": "execute_result"
    }
   ],
   "source": [
    "outputs"
   ]
  },
  {
   "cell_type": "markdown",
   "metadata": {},
   "source": [
    "<h2>Dense layer</h2>\n",
    "We now create densely-connected neural network layer that would reshape the outputs tensor from  [30 x 20 x 128] to [30 x 20 x 10000].\n"
   ]
  },
  {
   "cell_type": "code",
   "execution_count": 29,
   "metadata": {},
   "outputs": [],
   "source": [
    "dense = tf.keras.layers.Dense(vocab_size)"
   ]
  },
  {
   "cell_type": "code",
   "execution_count": 30,
   "metadata": {},
   "outputs": [],
   "source": [
    "logits_outputs  = dense(outputs)"
   ]
  },
  {
   "cell_type": "code",
   "execution_count": 31,
   "metadata": {},
   "outputs": [
    {
     "name": "stdout",
     "output_type": "stream",
     "text": [
      "shape of the output from dense layer:  (30, 20, 10000)\n"
     ]
    }
   ],
   "source": [
    "print(\"shape of the output from dense layer: \", logits_outputs.shape) #(batch_size, sequence_length, vocab_size)"
   ]
  },
  {
   "cell_type": "markdown",
   "metadata": {},
   "source": [
    "<h2>Activation layer</h2>\n",
    "\n",
    "\n",
    "A softmax activation layers is also then applied to derive the probability of the output being in any of the multiclass(10000 in this case) possibilities. \n"
   ]
  },
  {
   "cell_type": "code",
   "execution_count": 32,
   "metadata": {},
   "outputs": [],
   "source": [
    "activation = tf.keras.layers.Activation('softmax')"
   ]
  },
  {
   "cell_type": "code",
   "execution_count": 33,
   "metadata": {},
   "outputs": [],
   "source": [
    "output_words_prob = activation(logits_outputs)"
   ]
  },
  {
   "cell_type": "code",
   "execution_count": 34,
   "metadata": {},
   "outputs": [
    {
     "name": "stdout",
     "output_type": "stream",
     "text": [
      "shape of the output from the activation layer:  (30, 20, 10000)\n"
     ]
    }
   ],
   "source": [
    "print(\"shape of the output from the activation layer: \", output_words_prob.shape) #(batch_size, sequence_length, vocab_size)"
   ]
  },
  {
   "cell_type": "markdown",
   "metadata": {},
   "source": [
    "Lets look at the probability of observing words for t=0 to t=20:\n"
   ]
  },
  {
   "cell_type": "code",
   "execution_count": 35,
   "metadata": {},
   "outputs": [
    {
     "name": "stdout",
     "output_type": "stream",
     "text": [
      "The probability of observing words in t=0 to t=20 tf.Tensor(\n",
      "[[1.00006706e-04 1.00026278e-04 9.99961630e-05 ... 9.99757831e-05\n",
      "  1.00004938e-04 1.00007819e-04]\n",
      " [1.00018879e-04 1.00056255e-04 9.99926560e-05 ... 9.99463300e-05\n",
      "  1.00003243e-04 1.00012221e-04]\n",
      " [1.00013152e-04 1.00095254e-04 9.99795811e-05 ... 9.99173717e-05\n",
      "  9.99968324e-05 1.00003563e-04]\n",
      " ...\n",
      " [9.99866534e-05 1.00035919e-04 1.00033430e-04 ... 9.99683907e-05\n",
      "  1.00008867e-04 9.99505646e-05]\n",
      " [9.99898984e-05 1.00005651e-04 1.00039164e-04 ... 9.99636250e-05\n",
      "  9.99997646e-05 9.99454205e-05]\n",
      " [9.99941549e-05 9.99754557e-05 1.00015364e-04 ... 9.99509866e-05\n",
      "  1.00008489e-04 9.99445765e-05]], shape=(20, 10000), dtype=float32)\n"
     ]
    }
   ],
   "source": [
    "print(\"The probability of observing words in t=0 to t=20\", output_words_prob[0,0:num_steps])"
   ]
  },
  {
   "cell_type": "markdown",
   "metadata": {},
   "source": [
    "<h3>Prediction</h3>\n",
    "What is the word correspond to the probability output? Lets use the maximum probability:\n"
   ]
  },
  {
   "cell_type": "code",
   "execution_count": 36,
   "metadata": {},
   "outputs": [
    {
     "data": {
      "text/plain": [
       "array([4984, 4984, 4984, 2909, 2909, 4356, 2487, 2487, 2487, 2487, 2487,\n",
       "       8946, 8946, 8946,  818,  818, 5910, 5910, 1217, 1217])"
      ]
     },
     "execution_count": 36,
     "metadata": {},
     "output_type": "execute_result"
    }
   ],
   "source": [
    "np.argmax(output_words_prob[0,0:num_steps], axis=1)"
   ]
  },
  {
   "cell_type": "markdown",
   "metadata": {},
   "source": [
    "So, what is the ground truth for the first word of first sentence? You can get it from target tensor, if you want to find the embedding vector: \n"
   ]
  },
  {
   "cell_type": "code",
   "execution_count": 37,
   "metadata": {},
   "outputs": [
    {
     "data": {
      "text/plain": [
       "array([9971, 9972, 9974, 9975, 9976, 9980, 9981, 9982, 9983, 9984, 9986,\n",
       "       9987, 9988, 9989, 9991, 9992, 9993, 9994, 9995, 9996], dtype=int32)"
      ]
     },
     "execution_count": 37,
     "metadata": {},
     "output_type": "execute_result"
    }
   ],
   "source": [
    "_targets[0]"
   ]
  },
  {
   "cell_type": "markdown",
   "metadata": {},
   "source": [
    "<h4>Objective function</h4>\n",
    "\n",
    "\n",
    "How similar the predicted words are to the target words?\n",
    "\n",
    "\n",
    "Now we have to define our objective function, to calculate the similarity of predicted values to ground truth, and then, penalize the model with the error. Our objective is to minimize loss function, that is, to minimize the average negative log probability of the target words:\n",
    "\n",
    "$$\\text{loss} = -\\frac{1}{N}\\sum_{i=1}^{N} \\ln p_{\\text{target}_i}$$\n",
    "\n",
    "This function is already implemented and available in TensorFlow through *tf.keras.losses.sparse_categorical_crossentropy*. It calculates the categorical cross-entropy loss for <b>logits</b> and the <b>target</b> sequence.  \n",
    "\n",
    "The arguments of this function are:  \n",
    "<ul>\n",
    "    <li>logits: List of 2D Tensors of shape [batch_size x num_decoder_symbols].</li>  \n",
    "    <li>targets: List of 1D batch-sized int32 Tensors of the same length as logits.</li>   \n",
    "</ul>\n"
   ]
  },
  {
   "cell_type": "code",
   "execution_count": 38,
   "metadata": {},
   "outputs": [],
   "source": [
    "def crossentropy(y_true, y_pred):\n",
    "    return tf.keras.losses.sparse_categorical_crossentropy(y_true, y_pred)"
   ]
  },
  {
   "cell_type": "code",
   "execution_count": 39,
   "metadata": {},
   "outputs": [],
   "source": [
    "loss  = crossentropy(_targets, output_words_prob)"
   ]
  },
  {
   "cell_type": "markdown",
   "metadata": {},
   "source": [
    "Lets look at the first 10 values of loss:\n"
   ]
  },
  {
   "cell_type": "code",
   "execution_count": 40,
   "metadata": {},
   "outputs": [
    {
     "data": {
      "text/plain": [
       "<tf.Tensor: shape=(10,), dtype=float32, numpy=\n",
       "array([9.210414, 9.211007, 9.21012 , 9.210296, 9.21029 , 9.21076 ,\n",
       "       9.210689, 9.21028 , 9.210132, 9.211747], dtype=float32)>"
      ]
     },
     "execution_count": 40,
     "metadata": {},
     "output_type": "execute_result"
    }
   ],
   "source": [
    "loss[0,:10]"
   ]
  },
  {
   "cell_type": "markdown",
   "metadata": {},
   "source": [
    "Now, we define cost as average of the losses:\n"
   ]
  },
  {
   "cell_type": "code",
   "execution_count": 41,
   "metadata": {},
   "outputs": [
    {
     "data": {
      "text/plain": [
       "<tf.Tensor: shape=(), dtype=float32, numpy=184.20706>"
      ]
     },
     "execution_count": 41,
     "metadata": {},
     "output_type": "execute_result"
    }
   ],
   "source": [
    "cost = tf.reduce_sum(loss / batch_size)\n",
    "cost"
   ]
  },
  {
   "cell_type": "markdown",
   "metadata": {},
   "source": [
    "<h3>Training</h3>\n",
    "\n",
    "To do training for our network, we have to take the following steps:\n",
    "<ol>\n",
    "    <li>Define the optimizer.</li>\n",
    "    <li>Assemble layers to build model.</li>\n",
    "    <li>Calculate the gradients based on the loss function.</li>\n",
    "    <li>Apply the optimizer to the variables/gradients tuple.</li>\n",
    "</ol>\n"
   ]
  },
  {
   "cell_type": "markdown",
   "metadata": {},
   "source": [
    "<h4>1. Define Optimizer</h4>\n",
    "\n"
   ]
  },
  {
   "cell_type": "code",
   "execution_count": 42,
   "metadata": {},
   "outputs": [
    {
     "name": "stderr",
     "output_type": "stream",
     "text": [
      "/home/jupyterlab/conda/envs/python/lib/python3.7/site-packages/keras/optimizers/optimizer_v2/gradient_descent.py:108: UserWarning: The `lr` argument is deprecated, use `learning_rate` instead.\n",
      "  super(SGD, self).__init__(name, **kwargs)\n"
     ]
    }
   ],
   "source": [
    "# Create a variable for the learning rate\n",
    "lr = tf.Variable(0.0, trainable=False)\n",
    "optimizer = tf.keras.optimizers.SGD(lr=lr, clipnorm=max_grad_norm)"
   ]
  },
  {
   "cell_type": "markdown",
   "metadata": {},
   "source": [
    "<h4>2. Assemble layers to build model.</h4>\n"
   ]
  },
  {
   "cell_type": "code",
   "execution_count": 43,
   "metadata": {},
   "outputs": [
    {
     "name": "stdout",
     "output_type": "stream",
     "text": [
      "Model: \"sequential\"\n",
      "_________________________________________________________________\n",
      " Layer (type)                Output Shape              Param #   \n",
      "=================================================================\n",
      " embedding_vocab (Embedding)  (30, 20, 200)            2000000   \n",
      "                                                                 \n",
      " rnn (RNN)                   (30, 20, 128)             671088    \n",
      "                                                                 \n",
      " dense (Dense)               (30, 20, 10000)           1290000   \n",
      "                                                                 \n",
      " activation (Activation)     (30, 20, 10000)           0         \n",
      "                                                                 \n",
      "=================================================================\n",
      "Total params: 3,961,088\n",
      "Trainable params: 3,955,088\n",
      "Non-trainable params: 6,000\n",
      "_________________________________________________________________\n"
     ]
    }
   ],
   "source": [
    "model = tf.keras.Sequential()\n",
    "model.add(embedding_layer)\n",
    "model.add(layer)\n",
    "model.add(dense)\n",
    "model.add(activation)\n",
    "model.compile(loss=crossentropy, optimizer=optimizer)\n",
    "model.summary()"
   ]
  },
  {
   "cell_type": "markdown",
   "metadata": {},
   "source": [
    "\n",
    "<h4>2. Trainable Variables</h4>\n"
   ]
  },
  {
   "cell_type": "markdown",
   "metadata": {},
   "source": [
    "Defining a variable, if you passed <i>trainable=True</i>, the variable constructor automatically adds new variables to the graph collection <b>GraphKeys.TRAINABLE_VARIABLES</b>. Now, using <i>tf.trainable_variables()</i> you can get all variables created with <b>trainable=True</b>.\n"
   ]
  },
  {
   "cell_type": "code",
   "execution_count": 44,
   "metadata": {},
   "outputs": [],
   "source": [
    "# Get all TensorFlow variables marked as \"trainable\" (i.e. all of them except _lr, which we just created)\n",
    "tvars = model.trainable_variables"
   ]
  },
  {
   "cell_type": "markdown",
   "metadata": {},
   "source": [
    "Note: we can find the name and scope of all variables:\n"
   ]
  },
  {
   "cell_type": "code",
   "execution_count": 45,
   "metadata": {},
   "outputs": [
    {
     "data": {
      "text/plain": [
       "['embedding_vocab/embeddings:0',\n",
       " 'rnn/stacked_rnn_cells/lstm_cell/kernel:0',\n",
       " 'rnn/stacked_rnn_cells/lstm_cell/recurrent_kernel:0',\n",
       " 'rnn/stacked_rnn_cells/lstm_cell/bias:0',\n",
       " 'rnn/stacked_rnn_cells/lstm_cell_1/kernel:0',\n",
       " 'rnn/stacked_rnn_cells/lstm_cell_1/recurrent_kernel:0',\n",
       " 'rnn/stacked_rnn_cells/lstm_cell_1/bias:0',\n",
       " 'dense/kernel:0',\n",
       " 'dense/bias:0']"
      ]
     },
     "execution_count": 45,
     "metadata": {},
     "output_type": "execute_result"
    }
   ],
   "source": [
    "[v.name for v in tvars] "
   ]
  },
  {
   "cell_type": "markdown",
   "metadata": {},
   "source": [
    "<h4>3. Calculate the gradients based on the loss function</h4>\n"
   ]
  },
  {
   "cell_type": "markdown",
   "metadata": {},
   "source": [
    "**Gradient**: The gradient of a function is the slope of its derivative (line), or in other words, the rate of change of a function. It's a vector (a direction to move) that points in the direction of greatest increase of the function, and calculated by the <b>derivative</b> operation.\n"
   ]
  },
  {
   "cell_type": "markdown",
   "metadata": {},
   "source": [
    "First lets recall the gradient function using an toy example:\n",
    "$$ z = \\left(2x^2 + 3xy\\right)$$\n"
   ]
  },
  {
   "cell_type": "code",
   "execution_count": 46,
   "metadata": {},
   "outputs": [],
   "source": [
    "x = tf.constant(1.0)\n",
    "y =  tf.constant(2.0)\n",
    "with tf.GradientTape(persistent=True) as g:\n",
    "    g.watch(x)\n",
    "    g.watch(y)\n",
    "    func_test = 2 * x * x + 3 * x * y"
   ]
  },
  {
   "cell_type": "markdown",
   "metadata": {},
   "source": [
    "The <b>tf.gradients()</b> function allows you to compute the symbolic gradient of one tensor with respect to one or more other tensors—including variables. <b>tf.gradients(func, xs)</b> constructs symbolic partial derivatives of sum of <b>func</b> w.r.t. <i>x</i> in <b>xs</b>. \n",
    "\n",
    "Now, lets look at the derivitive w.r.t. <b>var_x</b>:\n",
    "$$ \\frac{\\partial \\:}{\\partial \\:x}\\left(2x^2 + 3xy\\right) = 4x + 3y $$\n"
   ]
  },
  {
   "cell_type": "code",
   "execution_count": 47,
   "metadata": {},
   "outputs": [
    {
     "name": "stdout",
     "output_type": "stream",
     "text": [
      "tf.Tensor(10.0, shape=(), dtype=float32)\n"
     ]
    }
   ],
   "source": [
    "var_grad = g.gradient(func_test, x) # Will compute to 10.0\n",
    "print(var_grad)"
   ]
  },
  {
   "cell_type": "markdown",
   "metadata": {},
   "source": [
    "the derivative w.r.t. <b>var_y</b>:\n",
    "$$ \\frac{\\partial \\:}{\\partial \\:y}\\left(2x^2 + 3xy\\right) = 3x $$\n"
   ]
  },
  {
   "cell_type": "code",
   "execution_count": 48,
   "metadata": {},
   "outputs": [
    {
     "name": "stdout",
     "output_type": "stream",
     "text": [
      "tf.Tensor(3.0, shape=(), dtype=float32)\n"
     ]
    }
   ],
   "source": [
    "var_grad = g.gradient(func_test, y) # Will compute to 3.0\n",
    "print(var_grad)"
   ]
  },
  {
   "cell_type": "markdown",
   "metadata": {},
   "source": [
    "Now, we can look at gradients w.r.t all variables:\n"
   ]
  },
  {
   "cell_type": "code",
   "execution_count": 49,
   "metadata": {},
   "outputs": [],
   "source": [
    "with tf.GradientTape() as tape:\n",
    "    # Forward pass.\n",
    "    output_words_prob = model(_input_data)\n",
    "    # Loss value for this batch.\n",
    "    loss  = crossentropy(_targets, output_words_prob)\n",
    "    cost = tf.reduce_sum(loss,axis=0) / batch_size"
   ]
  },
  {
   "cell_type": "code",
   "execution_count": 50,
   "metadata": {},
   "outputs": [],
   "source": [
    "# Get gradients of loss wrt the trainable variables.\n",
    "grad_t_list = tape.gradient(cost, tvars)"
   ]
  },
  {
   "cell_type": "code",
   "execution_count": 51,
   "metadata": {},
   "outputs": [
    {
     "name": "stdout",
     "output_type": "stream",
     "text": [
      "[<tensorflow.python.framework.indexed_slices.IndexedSlices object at 0x7f1a0bfa7190>, <tf.Tensor: shape=(200, 1024), dtype=float32, numpy=\n",
      "array([[-1.84979854e-07, -9.87970338e-07,  5.79719767e-07, ...,\n",
      "        -1.13296537e-07, -1.15046618e-07,  2.04213961e-07],\n",
      "       [ 3.06324040e-07, -7.19737955e-07,  2.96671914e-07, ...,\n",
      "         3.60005572e-08,  2.33182263e-07, -2.41521946e-07],\n",
      "       [-2.58727425e-07,  1.46113143e-06,  2.12584354e-07, ...,\n",
      "        -1.05573328e-07, -5.71800797e-07, -1.29501387e-07],\n",
      "       ...,\n",
      "       [-3.20856316e-07, -5.28749183e-07,  4.67934370e-07, ...,\n",
      "        -1.36384273e-07, -1.00316356e-07, -2.26394832e-07],\n",
      "       [-6.80030269e-07,  3.05710330e-07,  1.37070913e-07, ...,\n",
      "         8.05692366e-08, -8.05425771e-09,  1.53076172e-07],\n",
      "       [ 1.00966349e-06,  1.90374760e-06, -4.15143489e-07, ...,\n",
      "        -2.75626292e-07,  2.99696410e-07, -2.47817354e-07]], dtype=float32)>, <tf.Tensor: shape=(256, 1024), dtype=float32, numpy=\n",
      "array([[-7.2556418e-08,  1.9366671e-07, -5.2832583e-08, ...,\n",
      "         1.5013022e-08, -2.8126172e-07, -6.9861628e-08],\n",
      "       [-6.0250308e-08,  2.1135509e-08, -2.1483167e-08, ...,\n",
      "         3.2704243e-08,  1.9818889e-07,  5.0663800e-08],\n",
      "       [ 2.4723985e-07, -8.7271850e-08,  4.4769212e-08, ...,\n",
      "         2.4628250e-08,  2.0134692e-07,  8.0269473e-08],\n",
      "       ...,\n",
      "       [ 7.5794389e-08, -8.1538374e-08, -9.7944053e-09, ...,\n",
      "         6.7967960e-08,  7.7626396e-08, -6.0873333e-08],\n",
      "       [ 8.5630148e-08, -4.9092887e-07,  7.1814789e-08, ...,\n",
      "        -7.2912577e-08,  9.3984113e-07,  5.6464799e-08],\n",
      "       [ 2.9599178e-08, -1.6592740e-07,  2.4517743e-07, ...,\n",
      "        -3.6234518e-08, -3.9224699e-07, -4.3125974e-07]], dtype=float32)>, <tf.Tensor: shape=(1024,), dtype=float32, numpy=\n",
      "array([ 1.3207760e-05, -2.9053939e-05, -1.6878304e-05, ...,\n",
      "       -4.5817342e-06,  9.1403403e-05,  3.1973032e-05], dtype=float32)>, <tf.Tensor: shape=(256, 512), dtype=float32, numpy=\n",
      "array([[ 1.19176967e-07,  1.73096737e-08, -3.79198823e-08, ...,\n",
      "        -1.92005984e-07,  3.20277174e-08,  2.31036523e-08],\n",
      "       [-6.59902142e-08,  2.91441751e-08,  1.04860405e-08, ...,\n",
      "        -1.86508970e-07,  1.36001887e-07,  8.19832522e-08],\n",
      "       [ 3.44103412e-08, -8.83673579e-10,  5.48581731e-08, ...,\n",
      "        -4.92451818e-07, -7.82381733e-08,  2.46889300e-08],\n",
      "       ...,\n",
      "       [-1.11210632e-07, -7.71508795e-08, -4.11010745e-08, ...,\n",
      "        -2.11474585e-07,  1.38072949e-07,  4.98091062e-08],\n",
      "       [ 1.77349619e-07,  7.06263847e-09, -8.89955061e-08, ...,\n",
      "         4.22702726e-07, -2.96687034e-07,  1.59583976e-07],\n",
      "       [-1.32974449e-07,  2.71021577e-07,  4.15424068e-08, ...,\n",
      "        -3.31798930e-07, -3.68059347e-07,  3.99992572e-09]], dtype=float32)>, <tf.Tensor: shape=(128, 512), dtype=float32, numpy=\n",
      "array([[ 3.32722266e-07,  3.39254314e-09,  3.45147235e-08, ...,\n",
      "         2.04747465e-07, -1.17046906e-08,  1.39479077e-08],\n",
      "       [ 1.25875886e-07,  2.51191707e-08,  1.00369260e-08, ...,\n",
      "        -6.70096583e-08, -1.22828737e-07,  1.25001122e-07],\n",
      "       [-4.24514752e-08,  7.26483051e-09,  8.00651989e-08, ...,\n",
      "        -3.75967716e-07,  2.64324598e-08, -7.94389479e-08],\n",
      "       ...,\n",
      "       [-2.04859077e-07,  9.92032057e-08, -9.18695804e-08, ...,\n",
      "        -7.55344445e-07,  8.55535376e-08, -4.06149638e-08],\n",
      "       [-1.10149557e-07, -1.18959456e-07, -4.51405988e-08, ...,\n",
      "        -2.96707690e-08, -4.29332765e-08,  1.45332830e-08],\n",
      "       [-9.22872871e-08,  2.01417230e-08,  3.69809712e-08, ...,\n",
      "        -2.67896638e-08,  3.94104198e-08, -2.72328350e-07]], dtype=float32)>, <tf.Tensor: shape=(512,), dtype=float32, numpy=\n",
      "array([ 3.14615718e-05, -3.49580769e-05, -1.49087100e-05, -7.21254328e-05,\n",
      "       -1.56580136e-05,  1.64525845e-05, -3.76737225e-05, -3.98569719e-05,\n",
      "       -2.67194082e-05,  2.30118494e-05, -1.95664616e-05, -9.12492760e-06,\n",
      "        2.83995432e-05, -5.69679287e-06,  3.20249865e-06,  1.87213118e-05,\n",
      "        7.05942657e-05,  5.34701394e-05, -8.90775937e-06, -2.33966330e-06,\n",
      "        1.27020940e-06, -1.91820036e-05, -2.48735414e-05,  1.13764290e-05,\n",
      "       -9.07859139e-05,  1.44872411e-05, -1.29621048e-05, -9.81856101e-06,\n",
      "        7.66540616e-05, -1.56898877e-05, -1.75363075e-05, -3.92214133e-06,\n",
      "       -1.10539622e-05,  4.19845674e-05,  2.59458011e-05, -1.59479860e-05,\n",
      "       -2.57608299e-05,  3.66839886e-05, -2.02332103e-05,  3.05976864e-05,\n",
      "        1.92026473e-05,  2.46628442e-05, -1.21393296e-05, -2.86412596e-05,\n",
      "        5.26220392e-05,  1.82481526e-05, -6.76327682e-06,  1.48430127e-06,\n",
      "        1.56650021e-05,  2.50859885e-05, -3.65264132e-05,  4.59473449e-05,\n",
      "       -3.59894038e-05, -2.05052784e-05, -3.24350949e-05,  8.65155380e-05,\n",
      "        1.43568788e-04,  3.27036360e-05,  2.05429460e-05,  1.91879099e-05,\n",
      "        1.74877223e-05,  1.02987797e-05,  5.11692488e-05,  1.64298344e-05,\n",
      "       -8.66624214e-06, -6.91982859e-05,  2.98567102e-07,  5.34641440e-05,\n",
      "        2.68578497e-05,  1.59877573e-07,  1.72398431e-05,  4.69995430e-05,\n",
      "       -1.35256205e-05, -4.00793397e-05,  2.30792066e-05, -4.76037894e-05,\n",
      "        8.09569465e-05,  3.78741061e-05, -5.86008209e-05,  5.14993735e-05,\n",
      "       -7.24523306e-06,  3.79629819e-06, -1.52810026e-05, -4.37861745e-05,\n",
      "       -2.00605427e-05,  3.01392683e-05,  1.58389939e-05,  1.85731860e-05,\n",
      "       -1.42408026e-05, -1.35559349e-05, -4.49056006e-06,  5.21056791e-05,\n",
      "       -2.25613476e-05, -9.37465229e-05, -4.70538580e-05,  2.81713201e-05,\n",
      "       -6.23672022e-05,  1.18693279e-05, -3.17681152e-05,  3.47554924e-05,\n",
      "        2.28154440e-05, -1.64829544e-05, -2.17817560e-05, -1.46335224e-05,\n",
      "        3.78337099e-05, -3.39405888e-05,  1.95246539e-05, -9.41994858e-06,\n",
      "       -1.34972370e-05, -7.86684177e-06,  4.06702966e-05,  2.63914826e-05,\n",
      "       -1.83400516e-05, -3.02429708e-05,  1.09717330e-05,  2.44022021e-06,\n",
      "        5.24325005e-05, -5.36228690e-05, -3.15306534e-05,  9.61479054e-06,\n",
      "        6.41558581e-05, -2.96510780e-06, -6.27566187e-05,  2.00460127e-05,\n",
      "       -4.00575555e-05,  7.85194352e-05, -6.35343713e-06,  1.53738802e-05,\n",
      "        9.34472519e-06, -2.13789062e-05,  1.95112989e-05, -1.06725143e-04,\n",
      "       -3.68388100e-05,  8.73380486e-07, -3.91067078e-05, -4.47640123e-05,\n",
      "       -3.12652191e-05,  3.35830700e-05, -3.00723186e-05,  4.19598018e-06,\n",
      "        4.62762182e-05, -1.78730443e-05, -7.56569352e-06,  2.13447420e-05,\n",
      "        8.36879553e-05,  4.90560669e-05,  1.10829751e-06,  2.93183275e-05,\n",
      "       -1.41032069e-06, -9.54736242e-06, -2.47388089e-05, -1.65827623e-06,\n",
      "       -1.38796022e-04,  1.73790067e-05, -6.78736023e-06, -3.46128854e-06,\n",
      "        1.30974498e-04, -2.95916980e-05, -8.98727012e-06, -7.92807532e-06,\n",
      "       -2.09297323e-05,  4.45970436e-05,  2.54142396e-05, -3.40962943e-05,\n",
      "       -3.49783586e-05,  3.38817263e-05, -2.78367406e-05,  5.29065255e-05,\n",
      "        2.17151010e-05,  7.05869206e-06,  1.43629695e-05, -2.31613121e-05,\n",
      "        7.03325932e-05,  9.04110857e-06,  6.11993755e-07,  3.91430876e-06,\n",
      "        1.47752426e-05,  5.36360130e-05, -3.64615626e-05,  6.22366133e-05,\n",
      "       -2.97312436e-05, -2.72262605e-05, -2.05890483e-05,  1.18329444e-04,\n",
      "        1.89442755e-04,  5.85276684e-05,  2.19587455e-05,  3.69686895e-05,\n",
      "        5.97372491e-07,  1.78599330e-05,  9.12128889e-05,  5.10006430e-07,\n",
      "        5.30347097e-06, -1.14833943e-04, -1.34800612e-05,  7.27875813e-05,\n",
      "        4.35979018e-05, -2.99771273e-06,  1.81229170e-05,  6.99041775e-05,\n",
      "       -3.42274579e-05, -5.03811098e-05,  4.67903847e-05, -4.57225688e-05,\n",
      "        9.08280927e-05,  5.34198771e-05, -7.48591337e-05,  7.34343776e-05,\n",
      "       -8.89673993e-06, -2.08432884e-05, -2.45129340e-05, -3.73546682e-05,\n",
      "       -3.22168016e-05,  3.16261467e-05,  6.83749477e-07,  7.22561672e-05,\n",
      "       -6.45105756e-05,  4.81182315e-06, -6.80108815e-06,  7.16483337e-05,\n",
      "       -1.48595063e-05, -1.08738626e-04, -6.49794601e-05,  2.40497011e-05,\n",
      "       -8.39403292e-05,  2.66929492e-05, -5.49297729e-05,  5.07841396e-05,\n",
      "        2.78705411e-05, -3.57393692e-05, -9.38234734e-06,  4.63610422e-06,\n",
      "        4.20962388e-05, -5.29479730e-05,  1.46486300e-05, -4.71460862e-06,\n",
      "       -7.30726697e-06, -4.07724565e-06,  4.60966294e-05,  3.10132600e-05,\n",
      "       -5.04307973e-05, -3.34933866e-05,  1.08643662e-05,  4.79702248e-06,\n",
      "        5.02219264e-05, -6.80239173e-05, -4.00214922e-05,  1.42857498e-05,\n",
      "        9.68401000e-05, -1.81780815e-05, -1.04663908e-04,  2.94619604e-05,\n",
      "       -7.33318084e-05,  1.11156267e-04, -1.17151740e-05,  2.67956239e-06,\n",
      "        5.32410815e-02,  5.21279871e-05, -9.39315557e-03, -5.11334687e-02,\n",
      "       -1.32682696e-02, -2.93730628e-02,  1.40794814e-02,  2.82272277e-03,\n",
      "        1.93320028e-02, -4.41340990e-02,  8.70137289e-03, -2.34532207e-02,\n",
      "       -1.11565571e-02,  1.15186926e-02, -1.82617921e-02,  4.40073907e-02,\n",
      "       -3.31024155e-02,  3.70090641e-02,  3.07401139e-02,  8.72506201e-03,\n",
      "       -1.46892602e-02, -1.22960396e-02, -2.23373659e-02,  1.13977995e-02,\n",
      "        1.79259181e-02, -3.05929631e-02, -4.65467339e-03,  8.31900164e-03,\n",
      "       -3.65680866e-02,  2.23085620e-02, -1.48413901e-03, -4.05378304e-02,\n",
      "        4.19270154e-03, -2.24047974e-02,  9.97848995e-03,  2.68242769e-02,\n",
      "        2.65307389e-02, -3.87841277e-02, -3.34538296e-02,  4.13484648e-02,\n",
      "       -5.24132252e-02,  4.71640471e-03,  1.21559538e-02,  1.93194877e-02,\n",
      "       -1.34106670e-02,  1.56583861e-02,  2.80643050e-02, -2.23152600e-02,\n",
      "       -2.06960086e-03,  4.84852530e-02,  7.88183417e-03,  2.09340919e-02,\n",
      "        2.09163642e-03, -4.99888463e-03, -2.91438475e-02,  4.94706109e-02,\n",
      "        4.54601198e-02, -1.83171779e-02,  4.62468117e-02,  2.43812669e-02,\n",
      "        1.30296201e-02,  3.69629264e-02, -2.95972824e-02, -4.63561080e-02,\n",
      "        3.29149254e-02,  6.71650469e-02,  2.10955087e-02, -1.51680522e-02,\n",
      "        1.45888776e-02, -1.70489699e-02, -7.12220650e-03,  3.56301144e-02,\n",
      "        4.04786356e-02, -2.14464255e-02,  2.19781622e-02, -2.13252120e-02,\n",
      "       -2.19080839e-02, -3.97126488e-02,  2.19391100e-02,  3.60470600e-02,\n",
      "       -8.16594511e-02,  1.64846443e-02, -1.25472285e-02,  8.96037463e-03,\n",
      "        1.27558419e-02,  4.33117896e-02,  3.63008976e-02, -8.59095305e-02,\n",
      "        2.87296101e-02, -1.92392357e-02, -1.58939175e-02,  3.27211544e-02,\n",
      "       -8.04871507e-03,  1.79867689e-02, -2.53954902e-03, -6.01668656e-03,\n",
      "       -1.61111373e-02,  1.25960808e-03, -3.26616466e-02,  1.93642434e-02,\n",
      "        3.15809399e-02,  2.92549282e-02,  5.23988996e-03,  3.31065431e-02,\n",
      "       -2.44202800e-02,  3.37805301e-02,  2.94767208e-02,  4.02428769e-03,\n",
      "       -4.56148088e-02, -2.13031899e-02, -2.55549550e-02, -2.26189345e-02,\n",
      "        3.26563232e-03, -4.44858428e-03,  1.48206726e-02, -5.08740842e-02,\n",
      "       -4.81788926e-02, -3.73122953e-02,  5.19232005e-02, -1.70177594e-02,\n",
      "       -4.75771762e-02,  2.56424565e-02, -2.96610594e-02,  2.07791068e-02,\n",
      "        1.80135518e-02, -5.47706485e-02,  6.29891548e-03, -2.64252871e-02,\n",
      "        2.35657353e-05, -2.77444524e-05, -1.07389078e-05, -7.99228437e-05,\n",
      "       -2.34986601e-05,  1.42116005e-05, -2.82396031e-05, -3.61124257e-05,\n",
      "       -2.44301973e-05,  2.88417796e-05, -2.67491414e-05, -4.33570085e-06,\n",
      "        3.24230896e-05, -2.41758244e-07, -2.22588346e-06,  2.32090715e-05,\n",
      "        6.30914801e-05,  4.67460341e-05, -3.87547425e-06, -1.99027818e-06,\n",
      "       -8.03010607e-07, -3.21864136e-05, -1.55659982e-05,  8.39932909e-06,\n",
      "       -1.09595523e-04,  1.91425752e-05, -1.23238260e-05, -4.68411417e-06,\n",
      "        7.56451045e-05, -1.82781569e-05, -1.22900892e-05, -5.72616409e-06,\n",
      "       -1.45148933e-05,  5.46368610e-05,  1.92761327e-05, -2.03995187e-05,\n",
      "       -2.95546342e-05,  4.77142021e-05, -2.17903817e-05,  2.55195228e-05,\n",
      "        1.15352796e-05,  2.43366685e-05, -4.06453819e-06, -3.37693091e-05,\n",
      "        5.60798289e-05,  1.75090372e-05, -1.60321288e-05,  3.31961974e-06,\n",
      "        9.39600250e-06,  3.42583917e-05, -3.88272310e-05,  5.74777623e-05,\n",
      "       -4.02601363e-05, -1.08004333e-05, -2.12197865e-05,  8.50250508e-05,\n",
      "        1.61030708e-04,  4.81943571e-05,  2.65648123e-05,  2.52624905e-05,\n",
      "        1.23988593e-05,  1.72943637e-05,  6.62109087e-05,  1.21608055e-05,\n",
      "       -1.08782469e-05, -8.90777592e-05, -3.21208518e-06,  5.68945106e-05,\n",
      "        2.48210890e-05, -1.63596815e-06,  2.73617025e-05,  5.11892431e-05,\n",
      "       -1.15139919e-05, -4.39507457e-05,  2.55687046e-05, -5.48118987e-05,\n",
      "        9.68114327e-05,  4.14517053e-05, -7.12828623e-05,  5.91486933e-05,\n",
      "       -6.31506555e-06, -1.64096582e-06, -2.54621064e-05, -3.86257780e-05,\n",
      "       -2.39915698e-05,  3.57576500e-05,  1.87802943e-05,  1.87867499e-05,\n",
      "       -2.57098545e-05, -1.05395338e-05, -5.21519723e-06,  6.65870903e-05,\n",
      "       -1.45537242e-05, -9.48753877e-05, -5.36188309e-05,  2.56284693e-05,\n",
      "       -7.20269672e-05,  1.88866579e-05, -2.97114639e-05,  3.85622116e-05,\n",
      "        2.38427037e-05, -1.80503193e-05, -1.86204161e-05, -9.49776222e-06,\n",
      "        2.92883888e-05, -4.45994738e-05,  2.25936365e-05, -3.36222774e-06,\n",
      "       -1.34096490e-05, -6.88599903e-06,  4.89525482e-05,  2.70540895e-05,\n",
      "       -2.67751657e-05, -2.78916632e-05,  6.95268636e-06, -5.23635390e-06,\n",
      "        5.40776673e-05, -4.92721992e-05, -3.84087107e-05,  7.06312630e-06,\n",
      "        7.90936901e-05, -5.83738347e-06, -7.43786441e-05,  2.32397470e-05,\n",
      "       -4.34055801e-05,  1.01442820e-04, -1.38514224e-06,  2.58653909e-05],\n",
      "      dtype=float32)>, <tf.Tensor: shape=(128, 10000), dtype=float32, numpy=\n",
      "array([[-9.6525927e-04, -1.0813978e-03, -1.0364704e-03, ...,\n",
      "         1.1014231e-06,  1.1048410e-06,  1.1024276e-06],\n",
      "       [ 2.8617872e-04,  1.2755888e-03,  7.6677592e-04, ...,\n",
      "        -7.6481534e-08, -7.8374406e-08, -7.6199228e-08],\n",
      "       [ 6.2208943e-04,  2.0502748e-03,  1.0276409e-03, ...,\n",
      "        -2.5186382e-06, -2.5220950e-06, -2.5193881e-06],\n",
      "       ...,\n",
      "       [ 2.2393947e-03,  3.3286142e-03,  3.0344594e-03, ...,\n",
      "        -4.5349229e-06, -4.5412271e-06, -4.5358302e-06],\n",
      "       [ 7.0506299e-04, -8.4775081e-04,  1.2867837e-03, ...,\n",
      "         2.2972473e-07,  2.2768447e-07,  2.2936685e-07],\n",
      "       [ 9.7724865e-04,  1.2663320e-03,  1.3570555e-03, ...,\n",
      "        -3.2646499e-06, -3.2658791e-06, -3.2645416e-06]], dtype=float32)>, <tf.Tensor: shape=(10000,), dtype=float32, numpy=\n",
      "array([-0.7979979 , -1.0313313 , -1.0313317 , ...,  0.0019992 ,\n",
      "        0.00200112,  0.00199939], dtype=float32)>]\n"
     ]
    }
   ],
   "source": [
    "print(grad_t_list)"
   ]
  },
  {
   "cell_type": "markdown",
   "metadata": {},
   "source": [
    "\n",
    "\n",
    "\n",
    "now, we have a list of tensors, t-list. We can use it to find clipped tensors. <b>clip_by_global_norm</b> clips values of multiple tensors by the ratio of the sum of their norms.\n",
    "\n",
    "<b>clip_by_global_norm</b> get <i>t-list</i> as input and returns 2 things:\n",
    "<ul>\n",
    "    <li>a list of clipped tensors, so called <i>list_clipped</i></li> \n",
    "    <li>the global norm (global_norm) of all tensors in t_list</li> \n",
    "</ul>\n"
   ]
  },
  {
   "cell_type": "code",
   "execution_count": 52,
   "metadata": {},
   "outputs": [
    {
     "data": {
      "text/plain": [
       "[<tensorflow.python.framework.indexed_slices.IndexedSlices at 0x7f1a0bfa7b90>,\n",
       " <tf.Tensor: shape=(200, 1024), dtype=float32, numpy=\n",
       " array([[-1.84979854e-07, -9.87970338e-07,  5.79719767e-07, ...,\n",
       "         -1.13296537e-07, -1.15046618e-07,  2.04213961e-07],\n",
       "        [ 3.06324040e-07, -7.19737955e-07,  2.96671914e-07, ...,\n",
       "          3.60005572e-08,  2.33182263e-07, -2.41521946e-07],\n",
       "        [-2.58727425e-07,  1.46113143e-06,  2.12584354e-07, ...,\n",
       "         -1.05573328e-07, -5.71800797e-07, -1.29501387e-07],\n",
       "        ...,\n",
       "        [-3.20856316e-07, -5.28749183e-07,  4.67934370e-07, ...,\n",
       "         -1.36384273e-07, -1.00316356e-07, -2.26394832e-07],\n",
       "        [-6.80030269e-07,  3.05710330e-07,  1.37070913e-07, ...,\n",
       "          8.05692366e-08, -8.05425771e-09,  1.53076172e-07],\n",
       "        [ 1.00966349e-06,  1.90374760e-06, -4.15143489e-07, ...,\n",
       "         -2.75626292e-07,  2.99696410e-07, -2.47817354e-07]], dtype=float32)>,\n",
       " <tf.Tensor: shape=(256, 1024), dtype=float32, numpy=\n",
       " array([[-7.2556418e-08,  1.9366671e-07, -5.2832583e-08, ...,\n",
       "          1.5013022e-08, -2.8126172e-07, -6.9861628e-08],\n",
       "        [-6.0250308e-08,  2.1135509e-08, -2.1483167e-08, ...,\n",
       "          3.2704243e-08,  1.9818889e-07,  5.0663800e-08],\n",
       "        [ 2.4723985e-07, -8.7271850e-08,  4.4769212e-08, ...,\n",
       "          2.4628250e-08,  2.0134692e-07,  8.0269473e-08],\n",
       "        ...,\n",
       "        [ 7.5794389e-08, -8.1538374e-08, -9.7944053e-09, ...,\n",
       "          6.7967960e-08,  7.7626396e-08, -6.0873333e-08],\n",
       "        [ 8.5630148e-08, -4.9092887e-07,  7.1814789e-08, ...,\n",
       "         -7.2912577e-08,  9.3984113e-07,  5.6464799e-08],\n",
       "        [ 2.9599178e-08, -1.6592740e-07,  2.4517743e-07, ...,\n",
       "         -3.6234518e-08, -3.9224699e-07, -4.3125974e-07]], dtype=float32)>,\n",
       " <tf.Tensor: shape=(1024,), dtype=float32, numpy=\n",
       " array([ 1.3207760e-05, -2.9053939e-05, -1.6878304e-05, ...,\n",
       "        -4.5817342e-06,  9.1403403e-05,  3.1973032e-05], dtype=float32)>,\n",
       " <tf.Tensor: shape=(256, 512), dtype=float32, numpy=\n",
       " array([[ 1.19176967e-07,  1.73096737e-08, -3.79198823e-08, ...,\n",
       "         -1.92005984e-07,  3.20277174e-08,  2.31036523e-08],\n",
       "        [-6.59902142e-08,  2.91441751e-08,  1.04860405e-08, ...,\n",
       "         -1.86508970e-07,  1.36001887e-07,  8.19832522e-08],\n",
       "        [ 3.44103412e-08, -8.83673579e-10,  5.48581731e-08, ...,\n",
       "         -4.92451818e-07, -7.82381733e-08,  2.46889300e-08],\n",
       "        ...,\n",
       "        [-1.11210632e-07, -7.71508795e-08, -4.11010745e-08, ...,\n",
       "         -2.11474585e-07,  1.38072949e-07,  4.98091062e-08],\n",
       "        [ 1.77349619e-07,  7.06263847e-09, -8.89955061e-08, ...,\n",
       "          4.22702726e-07, -2.96687034e-07,  1.59583976e-07],\n",
       "        [-1.32974449e-07,  2.71021577e-07,  4.15424068e-08, ...,\n",
       "         -3.31798930e-07, -3.68059347e-07,  3.99992572e-09]], dtype=float32)>,\n",
       " <tf.Tensor: shape=(128, 512), dtype=float32, numpy=\n",
       " array([[ 3.32722266e-07,  3.39254314e-09,  3.45147235e-08, ...,\n",
       "          2.04747465e-07, -1.17046906e-08,  1.39479077e-08],\n",
       "        [ 1.25875886e-07,  2.51191707e-08,  1.00369260e-08, ...,\n",
       "         -6.70096583e-08, -1.22828737e-07,  1.25001122e-07],\n",
       "        [-4.24514752e-08,  7.26483051e-09,  8.00651989e-08, ...,\n",
       "         -3.75967716e-07,  2.64324598e-08, -7.94389479e-08],\n",
       "        ...,\n",
       "        [-2.04859077e-07,  9.92032057e-08, -9.18695804e-08, ...,\n",
       "         -7.55344445e-07,  8.55535376e-08, -4.06149638e-08],\n",
       "        [-1.10149557e-07, -1.18959456e-07, -4.51405988e-08, ...,\n",
       "         -2.96707690e-08, -4.29332765e-08,  1.45332830e-08],\n",
       "        [-9.22872871e-08,  2.01417230e-08,  3.69809712e-08, ...,\n",
       "         -2.67896638e-08,  3.94104198e-08, -2.72328350e-07]], dtype=float32)>,\n",
       " <tf.Tensor: shape=(512,), dtype=float32, numpy=\n",
       " array([ 3.14615718e-05, -3.49580769e-05, -1.49087100e-05, -7.21254328e-05,\n",
       "        -1.56580136e-05,  1.64525845e-05, -3.76737225e-05, -3.98569719e-05,\n",
       "        -2.67194082e-05,  2.30118494e-05, -1.95664616e-05, -9.12492760e-06,\n",
       "         2.83995432e-05, -5.69679287e-06,  3.20249865e-06,  1.87213118e-05,\n",
       "         7.05942657e-05,  5.34701394e-05, -8.90775937e-06, -2.33966330e-06,\n",
       "         1.27020940e-06, -1.91820036e-05, -2.48735414e-05,  1.13764290e-05,\n",
       "        -9.07859139e-05,  1.44872411e-05, -1.29621048e-05, -9.81856101e-06,\n",
       "         7.66540616e-05, -1.56898877e-05, -1.75363075e-05, -3.92214133e-06,\n",
       "        -1.10539622e-05,  4.19845674e-05,  2.59458011e-05, -1.59479860e-05,\n",
       "        -2.57608299e-05,  3.66839886e-05, -2.02332103e-05,  3.05976864e-05,\n",
       "         1.92026473e-05,  2.46628442e-05, -1.21393296e-05, -2.86412596e-05,\n",
       "         5.26220392e-05,  1.82481526e-05, -6.76327682e-06,  1.48430127e-06,\n",
       "         1.56650021e-05,  2.50859885e-05, -3.65264132e-05,  4.59473449e-05,\n",
       "        -3.59894038e-05, -2.05052784e-05, -3.24350949e-05,  8.65155380e-05,\n",
       "         1.43568788e-04,  3.27036360e-05,  2.05429460e-05,  1.91879099e-05,\n",
       "         1.74877223e-05,  1.02987797e-05,  5.11692488e-05,  1.64298344e-05,\n",
       "        -8.66624214e-06, -6.91982859e-05,  2.98567102e-07,  5.34641440e-05,\n",
       "         2.68578497e-05,  1.59877573e-07,  1.72398431e-05,  4.69995430e-05,\n",
       "        -1.35256205e-05, -4.00793397e-05,  2.30792066e-05, -4.76037894e-05,\n",
       "         8.09569465e-05,  3.78741061e-05, -5.86008209e-05,  5.14993735e-05,\n",
       "        -7.24523306e-06,  3.79629819e-06, -1.52810026e-05, -4.37861745e-05,\n",
       "        -2.00605427e-05,  3.01392683e-05,  1.58389939e-05,  1.85731860e-05,\n",
       "        -1.42408026e-05, -1.35559349e-05, -4.49056006e-06,  5.21056791e-05,\n",
       "        -2.25613476e-05, -9.37465229e-05, -4.70538580e-05,  2.81713201e-05,\n",
       "        -6.23672022e-05,  1.18693279e-05, -3.17681152e-05,  3.47554924e-05,\n",
       "         2.28154440e-05, -1.64829544e-05, -2.17817560e-05, -1.46335224e-05,\n",
       "         3.78337099e-05, -3.39405888e-05,  1.95246539e-05, -9.41994858e-06,\n",
       "        -1.34972370e-05, -7.86684177e-06,  4.06702966e-05,  2.63914826e-05,\n",
       "        -1.83400516e-05, -3.02429708e-05,  1.09717330e-05,  2.44022021e-06,\n",
       "         5.24325005e-05, -5.36228690e-05, -3.15306534e-05,  9.61479054e-06,\n",
       "         6.41558581e-05, -2.96510780e-06, -6.27566187e-05,  2.00460127e-05,\n",
       "        -4.00575555e-05,  7.85194352e-05, -6.35343713e-06,  1.53738802e-05,\n",
       "         9.34472519e-06, -2.13789062e-05,  1.95112989e-05, -1.06725143e-04,\n",
       "        -3.68388100e-05,  8.73380486e-07, -3.91067078e-05, -4.47640123e-05,\n",
       "        -3.12652191e-05,  3.35830700e-05, -3.00723186e-05,  4.19598018e-06,\n",
       "         4.62762182e-05, -1.78730443e-05, -7.56569352e-06,  2.13447420e-05,\n",
       "         8.36879553e-05,  4.90560669e-05,  1.10829751e-06,  2.93183275e-05,\n",
       "        -1.41032069e-06, -9.54736242e-06, -2.47388089e-05, -1.65827623e-06,\n",
       "        -1.38796022e-04,  1.73790067e-05, -6.78736023e-06, -3.46128854e-06,\n",
       "         1.30974498e-04, -2.95916980e-05, -8.98727012e-06, -7.92807532e-06,\n",
       "        -2.09297323e-05,  4.45970436e-05,  2.54142396e-05, -3.40962943e-05,\n",
       "        -3.49783586e-05,  3.38817263e-05, -2.78367406e-05,  5.29065255e-05,\n",
       "         2.17151010e-05,  7.05869206e-06,  1.43629695e-05, -2.31613121e-05,\n",
       "         7.03325932e-05,  9.04110857e-06,  6.11993755e-07,  3.91430876e-06,\n",
       "         1.47752426e-05,  5.36360130e-05, -3.64615626e-05,  6.22366133e-05,\n",
       "        -2.97312436e-05, -2.72262605e-05, -2.05890483e-05,  1.18329444e-04,\n",
       "         1.89442755e-04,  5.85276684e-05,  2.19587455e-05,  3.69686895e-05,\n",
       "         5.97372491e-07,  1.78599330e-05,  9.12128889e-05,  5.10006430e-07,\n",
       "         5.30347097e-06, -1.14833943e-04, -1.34800612e-05,  7.27875813e-05,\n",
       "         4.35979018e-05, -2.99771273e-06,  1.81229170e-05,  6.99041775e-05,\n",
       "        -3.42274579e-05, -5.03811098e-05,  4.67903847e-05, -4.57225688e-05,\n",
       "         9.08280927e-05,  5.34198771e-05, -7.48591337e-05,  7.34343776e-05,\n",
       "        -8.89673993e-06, -2.08432884e-05, -2.45129340e-05, -3.73546682e-05,\n",
       "        -3.22168016e-05,  3.16261467e-05,  6.83749477e-07,  7.22561672e-05,\n",
       "        -6.45105756e-05,  4.81182315e-06, -6.80108815e-06,  7.16483337e-05,\n",
       "        -1.48595063e-05, -1.08738626e-04, -6.49794601e-05,  2.40497011e-05,\n",
       "        -8.39403292e-05,  2.66929492e-05, -5.49297729e-05,  5.07841396e-05,\n",
       "         2.78705411e-05, -3.57393692e-05, -9.38234734e-06,  4.63610422e-06,\n",
       "         4.20962388e-05, -5.29479730e-05,  1.46486300e-05, -4.71460862e-06,\n",
       "        -7.30726697e-06, -4.07724565e-06,  4.60966294e-05,  3.10132600e-05,\n",
       "        -5.04307973e-05, -3.34933866e-05,  1.08643662e-05,  4.79702248e-06,\n",
       "         5.02219264e-05, -6.80239173e-05, -4.00214922e-05,  1.42857498e-05,\n",
       "         9.68401000e-05, -1.81780815e-05, -1.04663908e-04,  2.94619604e-05,\n",
       "        -7.33318084e-05,  1.11156267e-04, -1.17151740e-05,  2.67956239e-06,\n",
       "         5.32410815e-02,  5.21279871e-05, -9.39315557e-03, -5.11334687e-02,\n",
       "        -1.32682696e-02, -2.93730628e-02,  1.40794814e-02,  2.82272277e-03,\n",
       "         1.93320028e-02, -4.41340990e-02,  8.70137289e-03, -2.34532207e-02,\n",
       "        -1.11565571e-02,  1.15186926e-02, -1.82617921e-02,  4.40073907e-02,\n",
       "        -3.31024155e-02,  3.70090641e-02,  3.07401139e-02,  8.72506201e-03,\n",
       "        -1.46892602e-02, -1.22960396e-02, -2.23373659e-02,  1.13977995e-02,\n",
       "         1.79259181e-02, -3.05929631e-02, -4.65467339e-03,  8.31900164e-03,\n",
       "        -3.65680866e-02,  2.23085620e-02, -1.48413901e-03, -4.05378304e-02,\n",
       "         4.19270154e-03, -2.24047974e-02,  9.97848995e-03,  2.68242769e-02,\n",
       "         2.65307389e-02, -3.87841277e-02, -3.34538296e-02,  4.13484648e-02,\n",
       "        -5.24132252e-02,  4.71640471e-03,  1.21559538e-02,  1.93194877e-02,\n",
       "        -1.34106670e-02,  1.56583861e-02,  2.80643050e-02, -2.23152600e-02,\n",
       "        -2.06960086e-03,  4.84852530e-02,  7.88183417e-03,  2.09340919e-02,\n",
       "         2.09163642e-03, -4.99888463e-03, -2.91438475e-02,  4.94706109e-02,\n",
       "         4.54601198e-02, -1.83171779e-02,  4.62468117e-02,  2.43812669e-02,\n",
       "         1.30296201e-02,  3.69629264e-02, -2.95972824e-02, -4.63561080e-02,\n",
       "         3.29149254e-02,  6.71650469e-02,  2.10955087e-02, -1.51680522e-02,\n",
       "         1.45888776e-02, -1.70489699e-02, -7.12220650e-03,  3.56301144e-02,\n",
       "         4.04786356e-02, -2.14464255e-02,  2.19781622e-02, -2.13252120e-02,\n",
       "        -2.19080839e-02, -3.97126488e-02,  2.19391100e-02,  3.60470600e-02,\n",
       "        -8.16594511e-02,  1.64846443e-02, -1.25472285e-02,  8.96037463e-03,\n",
       "         1.27558419e-02,  4.33117896e-02,  3.63008976e-02, -8.59095305e-02,\n",
       "         2.87296101e-02, -1.92392357e-02, -1.58939175e-02,  3.27211544e-02,\n",
       "        -8.04871507e-03,  1.79867689e-02, -2.53954902e-03, -6.01668656e-03,\n",
       "        -1.61111373e-02,  1.25960808e-03, -3.26616466e-02,  1.93642434e-02,\n",
       "         3.15809399e-02,  2.92549282e-02,  5.23988996e-03,  3.31065431e-02,\n",
       "        -2.44202800e-02,  3.37805301e-02,  2.94767208e-02,  4.02428769e-03,\n",
       "        -4.56148088e-02, -2.13031899e-02, -2.55549550e-02, -2.26189345e-02,\n",
       "         3.26563232e-03, -4.44858428e-03,  1.48206726e-02, -5.08740842e-02,\n",
       "        -4.81788926e-02, -3.73122953e-02,  5.19232005e-02, -1.70177594e-02,\n",
       "        -4.75771762e-02,  2.56424565e-02, -2.96610594e-02,  2.07791068e-02,\n",
       "         1.80135518e-02, -5.47706485e-02,  6.29891548e-03, -2.64252871e-02,\n",
       "         2.35657353e-05, -2.77444524e-05, -1.07389078e-05, -7.99228437e-05,\n",
       "        -2.34986601e-05,  1.42116005e-05, -2.82396031e-05, -3.61124257e-05,\n",
       "        -2.44301973e-05,  2.88417796e-05, -2.67491414e-05, -4.33570085e-06,\n",
       "         3.24230896e-05, -2.41758244e-07, -2.22588346e-06,  2.32090715e-05,\n",
       "         6.30914801e-05,  4.67460341e-05, -3.87547425e-06, -1.99027818e-06,\n",
       "        -8.03010607e-07, -3.21864136e-05, -1.55659982e-05,  8.39932909e-06,\n",
       "        -1.09595523e-04,  1.91425752e-05, -1.23238260e-05, -4.68411417e-06,\n",
       "         7.56451045e-05, -1.82781569e-05, -1.22900892e-05, -5.72616409e-06,\n",
       "        -1.45148933e-05,  5.46368610e-05,  1.92761327e-05, -2.03995187e-05,\n",
       "        -2.95546342e-05,  4.77142021e-05, -2.17903817e-05,  2.55195228e-05,\n",
       "         1.15352796e-05,  2.43366685e-05, -4.06453819e-06, -3.37693091e-05,\n",
       "         5.60798289e-05,  1.75090372e-05, -1.60321288e-05,  3.31961974e-06,\n",
       "         9.39600250e-06,  3.42583917e-05, -3.88272310e-05,  5.74777623e-05,\n",
       "        -4.02601363e-05, -1.08004333e-05, -2.12197865e-05,  8.50250508e-05,\n",
       "         1.61030708e-04,  4.81943571e-05,  2.65648123e-05,  2.52624905e-05,\n",
       "         1.23988593e-05,  1.72943637e-05,  6.62109087e-05,  1.21608055e-05,\n",
       "        -1.08782469e-05, -8.90777592e-05, -3.21208518e-06,  5.68945106e-05,\n",
       "         2.48210890e-05, -1.63596815e-06,  2.73617025e-05,  5.11892431e-05,\n",
       "        -1.15139919e-05, -4.39507457e-05,  2.55687046e-05, -5.48118987e-05,\n",
       "         9.68114327e-05,  4.14517053e-05, -7.12828623e-05,  5.91486933e-05,\n",
       "        -6.31506555e-06, -1.64096582e-06, -2.54621064e-05, -3.86257780e-05,\n",
       "        -2.39915698e-05,  3.57576500e-05,  1.87802943e-05,  1.87867499e-05,\n",
       "        -2.57098545e-05, -1.05395338e-05, -5.21519723e-06,  6.65870903e-05,\n",
       "        -1.45537242e-05, -9.48753877e-05, -5.36188309e-05,  2.56284693e-05,\n",
       "        -7.20269672e-05,  1.88866579e-05, -2.97114639e-05,  3.85622116e-05,\n",
       "         2.38427037e-05, -1.80503193e-05, -1.86204161e-05, -9.49776222e-06,\n",
       "         2.92883888e-05, -4.45994738e-05,  2.25936365e-05, -3.36222774e-06,\n",
       "        -1.34096490e-05, -6.88599903e-06,  4.89525482e-05,  2.70540895e-05,\n",
       "        -2.67751657e-05, -2.78916632e-05,  6.95268636e-06, -5.23635390e-06,\n",
       "         5.40776673e-05, -4.92721992e-05, -3.84087107e-05,  7.06312630e-06,\n",
       "         7.90936901e-05, -5.83738347e-06, -7.43786441e-05,  2.32397470e-05,\n",
       "        -4.34055801e-05,  1.01442820e-04, -1.38514224e-06,  2.58653909e-05],\n",
       "       dtype=float32)>,\n",
       " <tf.Tensor: shape=(128, 10000), dtype=float32, numpy=\n",
       " array([[-9.6525927e-04, -1.0813978e-03, -1.0364704e-03, ...,\n",
       "          1.1014231e-06,  1.1048410e-06,  1.1024276e-06],\n",
       "        [ 2.8617872e-04,  1.2755888e-03,  7.6677592e-04, ...,\n",
       "         -7.6481534e-08, -7.8374406e-08, -7.6199228e-08],\n",
       "        [ 6.2208943e-04,  2.0502748e-03,  1.0276409e-03, ...,\n",
       "         -2.5186382e-06, -2.5220950e-06, -2.5193881e-06],\n",
       "        ...,\n",
       "        [ 2.2393947e-03,  3.3286142e-03,  3.0344594e-03, ...,\n",
       "         -4.5349229e-06, -4.5412271e-06, -4.5358302e-06],\n",
       "        [ 7.0506299e-04, -8.4775081e-04,  1.2867837e-03, ...,\n",
       "          2.2972473e-07,  2.2768447e-07,  2.2936685e-07],\n",
       "        [ 9.7724865e-04,  1.2663320e-03,  1.3570555e-03, ...,\n",
       "         -3.2646499e-06, -3.2658791e-06, -3.2645416e-06]], dtype=float32)>,\n",
       " <tf.Tensor: shape=(10000,), dtype=float32, numpy=\n",
       " array([-0.7979979 , -1.0313313 , -1.0313317 , ...,  0.0019992 ,\n",
       "         0.00200112,  0.00199939], dtype=float32)>]"
      ]
     },
     "execution_count": 52,
     "metadata": {},
     "output_type": "execute_result"
    }
   ],
   "source": [
    "# Define the gradient clipping threshold\n",
    "grads, _ = tf.clip_by_global_norm(grad_t_list, max_grad_norm)\n",
    "grads"
   ]
  },
  {
   "cell_type": "markdown",
   "metadata": {},
   "source": [
    "<h4> 4.Apply the optimizer to the variables/gradients tuple. </h4>\n"
   ]
  },
  {
   "cell_type": "code",
   "execution_count": 53,
   "metadata": {},
   "outputs": [],
   "source": [
    "# Create the training TensorFlow Operation through our optimizer\n",
    "train_op = optimizer.apply_gradients(zip(grads, tvars))"
   ]
  },
  {
   "cell_type": "markdown",
   "metadata": {},
   "source": [
    "<a id=\"ltsm\"></a>\n",
    "<h2>LSTM</h2>\n"
   ]
  },
  {
   "cell_type": "markdown",
   "metadata": {},
   "source": [
    "We learned how the model is build step by step. Noe, let's then create a Class that represents our model. This class needs a few things:\n",
    "<ul>\n",
    "    <li>We have to create the model in accordance with our defined hyperparameters</li>\n",
    "    <li>We have to create the LSTM cell structure and connect them with our RNN structure</li>\n",
    "    <li>We have to create the word embeddings and point them to the input data</li>\n",
    "    <li>We have to create the input structure for our RNN</li>\n",
    "    <li>We need to create a logistic structure to return the probability of our words</li>\n",
    "    <li>We need to create the loss and cost functions for our optimizer to work, and then create the optimizer</li>\n",
    "    <li>And finally, we need to create a training operation that can be run to actually train our model</li>\n",
    "</ul>\n"
   ]
  },
  {
   "cell_type": "code",
   "execution_count": 54,
   "metadata": {},
   "outputs": [],
   "source": [
    "class PTBModel(object):\n",
    "\n",
    "\n",
    "    def __init__(self):\n",
    "        ######################################\n",
    "        # Setting parameters for ease of use #\n",
    "        ######################################\n",
    "        self.batch_size = batch_size\n",
    "        self.num_steps = num_steps\n",
    "        self.hidden_size_l1 = hidden_size_l1\n",
    "        self.hidden_size_l2 = hidden_size_l2\n",
    "        self.vocab_size = vocab_size\n",
    "        self.embeding_vector_size = embeding_vector_size\n",
    "        # Create a variable for the learning rate\n",
    "        self._lr = 1.0\n",
    "        \n",
    "        ###############################################################################\n",
    "        # Initializing the model using keras Sequential API  #\n",
    "        ###############################################################################\n",
    "        \n",
    "        self._model = tf.keras.models.Sequential()\n",
    "        \n",
    "        ####################################################################\n",
    "        # Creating the word embeddings layer and adding it to the sequence #\n",
    "        ####################################################################\n",
    "        with tf.device(\"/cpu:0\"):\n",
    "            # Create the embeddings for our input data. Size is hidden size.\n",
    "            self._embedding_layer = tf.keras.layers.Embedding(self.vocab_size, self.embeding_vector_size,batch_input_shape=(self.batch_size, self.num_steps),trainable=True,name=\"embedding_vocab\")  #[10000x200]\n",
    "            self._model.add(self._embedding_layer)\n",
    "            \n",
    "\n",
    "        ##########################################################################\n",
    "        # Creating the LSTM cell structure and connect it with the RNN structure #\n",
    "        ##########################################################################\n",
    "        # Create the LSTM Cells. \n",
    "        # This creates only the structure for the LSTM and has to be associated with a RNN unit still.\n",
    "        # The argument  of LSTMCell is size of hidden layer, that is, the number of hidden units of the LSTM (inside A). \n",
    "        # LSTM cell processes one word at a time and computes probabilities of the possible continuations of the sentence.\n",
    "        lstm_cell_l1 = tf.keras.layers.LSTMCell(hidden_size_l1)\n",
    "        lstm_cell_l2 = tf.keras.layers.LSTMCell(hidden_size_l2)\n",
    "        \n",
    "\n",
    "        \n",
    "        # By taking in the LSTM cells as parameters, the StackedRNNCells function junctions the LSTM units to the RNN units.\n",
    "        # RNN cell composed sequentially of stacked simple cells.\n",
    "        stacked_lstm = tf.keras.layers.StackedRNNCells([lstm_cell_l1, lstm_cell_l2])\n",
    "\n",
    "\n",
    "        \n",
    "\n",
    "        ############################################\n",
    "        # Creating the input structure for our RNN #\n",
    "        ############################################\n",
    "        # Input structure is 20x[30x200]\n",
    "        # Considering each word is represended by a 200 dimentional vector, and we have 30 batchs, we create 30 word-vectors of size [30xx2000]\n",
    "        # The input structure is fed from the embeddings, which are filled in by the input data\n",
    "        # Feeding a batch of b sentences to a RNN:\n",
    "        # In step 1,  first word of each of the b sentences (in a batch) is input in parallel.  \n",
    "        # In step 2,  second word of each of the b sentences is input in parallel. \n",
    "        # The parallelism is only for efficiency.  \n",
    "        # Each sentence in a batch is handled in parallel, but the network sees one word of a sentence at a time and does the computations accordingly. \n",
    "        # All the computations involving the words of all sentences in a batch at a given time step are done in parallel. \n",
    "\n",
    "        ########################################################################################################\n",
    "        # Instantiating our RNN model and setting stateful to True to feed forward the state to the next layer #\n",
    "        ########################################################################################################\n",
    "        \n",
    "        self._RNNlayer  =  tf.keras.layers.RNN(stacked_lstm,[batch_size, num_steps],return_state=False,stateful=True,trainable=True)\n",
    "        \n",
    "        # Define the initial state, i.e., the model state for the very first data point\n",
    "        # It initialize the state of the LSTM memory. The memory state of the network is initialized with a vector of zeros and gets updated after reading each word.\n",
    "        self._initial_state = tf.Variable(tf.zeros([batch_size,embeding_vector_size]),trainable=False)\n",
    "        self._RNNlayer.inital_state = self._initial_state\n",
    "    \n",
    "        ############################################\n",
    "        # Adding RNN layer to keras sequential API #\n",
    "        ############################################        \n",
    "        self._model.add(self._RNNlayer)\n",
    "        \n",
    "        #self._model.add(tf.keras.layers.LSTM(hidden_size_l1,return_sequences=True,stateful=True))\n",
    "        #self._model.add(tf.keras.layers.LSTM(hidden_size_l2,return_sequences=True))\n",
    "        \n",
    "        \n",
    "        ####################################################################################################\n",
    "        # Instantiating a Dense layer that connects the output to the vocab_size  and adding layer to model#\n",
    "        ####################################################################################################\n",
    "        self._dense = tf.keras.layers.Dense(self.vocab_size)\n",
    "        self._model.add(self._dense)\n",
    " \n",
    "        \n",
    "        ####################################################################################################\n",
    "        # Adding softmax activation layer and deriving probability to each class and adding layer to model #\n",
    "        ####################################################################################################\n",
    "        self._activation = tf.keras.layers.Activation('softmax')\n",
    "        self._model.add(self._activation)\n",
    "\n",
    "        ##########################################################\n",
    "        # Instantiating the stochastic gradient decent optimizer #\n",
    "        ########################################################## \n",
    "        self._optimizer = tf.keras.optimizers.SGD(lr=self._lr, clipnorm=max_grad_norm)\n",
    "        \n",
    "        \n",
    "        ##############################################################################\n",
    "        # Compiling and summarizing the model stacked using the keras sequential API #\n",
    "        ##############################################################################\n",
    "        self._model.compile(loss=self.crossentropy, optimizer=self._optimizer)\n",
    "        self._model.summary()\n",
    "\n",
    "\n",
    "    def crossentropy(self,y_true, y_pred):\n",
    "        return tf.keras.losses.sparse_categorical_crossentropy(y_true, y_pred)\n",
    "\n",
    "    def train_batch(self,_input_data,_targets):\n",
    "        #################################################\n",
    "        # Creating the Training Operation for our Model #\n",
    "        #################################################\n",
    "        # Create a variable for the learning rate\n",
    "        self._lr = tf.Variable(0.0, trainable=False)\n",
    "        # Get all TensorFlow variables marked as \"trainable\" (i.e. all of them except _lr, which we just created)\n",
    "        tvars = self._model.trainable_variables\n",
    "        # Define the gradient clipping threshold\n",
    "        with tf.GradientTape() as tape:\n",
    "            # Forward pass.\n",
    "            output_words_prob = self._model(_input_data)\n",
    "            # Loss value for this batch.\n",
    "            loss  = self.crossentropy(_targets, output_words_prob)\n",
    "            # average across batch and reduce sum\n",
    "            cost = tf.reduce_sum(loss/ self.batch_size)\n",
    "        # Get gradients of loss wrt the trainable variables.\n",
    "        grad_t_list = tape.gradient(cost, tvars)\n",
    "        # Define the gradient clipping threshold\n",
    "        grads, _ = tf.clip_by_global_norm(grad_t_list, max_grad_norm)\n",
    "        # Create the training TensorFlow Operation through our optimizer\n",
    "        train_op = self._optimizer.apply_gradients(zip(grads, tvars))\n",
    "        return cost\n",
    "        \n",
    "    def test_batch(self,_input_data,_targets):\n",
    "        #################################################\n",
    "        # Creating the Testing Operation for our Model #\n",
    "        #################################################\n",
    "        output_words_prob = self._model(_input_data)\n",
    "        loss  = self.crossentropy(_targets, output_words_prob)\n",
    "        # average across batch and reduce sum\n",
    "        cost = tf.reduce_sum(loss/ self.batch_size)\n",
    "\n",
    "        return cost\n",
    "    @classmethod\n",
    "    def instance(cls) : \n",
    "        return PTBModel()"
   ]
  },
  {
   "cell_type": "markdown",
   "metadata": {},
   "source": [
    "With that, the actual structure of our Recurrent Neural Network with Long Short-Term Memory is finished. What remains for us to do is to actually create the methods to run through time -- that is, the <code>run_epoch</code> method to be run at each epoch and a <code>main</code> script which ties all of this together.\n",
    "\n",
    "What our <code>run_epoch</code> method should do is take our input data and feed it to the relevant operations. This will return at the very least the current result for the cost function.\n"
   ]
  },
  {
   "cell_type": "code",
   "execution_count": 55,
   "metadata": {},
   "outputs": [],
   "source": [
    "\n",
    "########################################################################################################################\n",
    "# run_one_epoch takes as parameters  the model instance, the data to be fed, training or testing mode and verbose info #\n",
    "########################################################################################################################\n",
    "def run_one_epoch(m, data,is_training=True,verbose=False):\n",
    "\n",
    "    #Define the epoch size based on the length of the data, batch size and the number of steps\n",
    "    epoch_size = ((len(data) // m.batch_size) - 1) // m.num_steps\n",
    "    start_time = time.time()\n",
    "    costs = 0.\n",
    "    iters = 0\n",
    "    \n",
    "    m._model.reset_states()\n",
    "    \n",
    "    #For each step and data point\n",
    "    for step, (x, y) in enumerate(ptb_iterator(data, m.batch_size, m.num_steps)):\n",
    "        \n",
    "        #Evaluate and return cost, state by running cost, final_state and the function passed as parameter\n",
    "        #y = tf.keras.utils.to_categorical(y, num_classes=vocab_size)\n",
    "        if is_training : \n",
    "            loss=  m.train_batch(x, y)\n",
    "        else :\n",
    "            loss = m.test_batch(x, y)\n",
    "                                   \n",
    "\n",
    "        #Add returned cost to costs (which keeps track of the total costs for this epoch)\n",
    "        costs += loss\n",
    "        \n",
    "        #Add number of steps to iteration counter\n",
    "        iters += m.num_steps\n",
    "\n",
    "        if verbose and step % (epoch_size // 10) == 10:\n",
    "            print(\"Itr %d of %d, perplexity: %.3f speed: %.0f wps\" % (step , epoch_size, np.exp(costs / iters), iters * m.batch_size / (time.time() - start_time)))\n",
    "        \n",
    "\n",
    "\n",
    "    # Returns the Perplexity rating for us to keep track of how the model is evolving\n",
    "    return np.exp(costs / iters)\n"
   ]
  },
  {
   "cell_type": "markdown",
   "metadata": {},
   "source": [
    "Now, we create the <code>main</code> method to tie everything together. The code here reads the data from the directory, using the <code>reader</code> helper module, and then trains and evaluates the model on both a testing and a validating subset of data.\n"
   ]
  },
  {
   "cell_type": "code",
   "execution_count": 56,
   "metadata": {},
   "outputs": [],
   "source": [
    "# Reads the data and separates it into training data, validation data and testing data\n",
    "raw_data = ptb_raw_data(data_dir)\n",
    "train_data, valid_data, test_data, _, _ = raw_data"
   ]
  },
  {
   "cell_type": "code",
   "execution_count": null,
   "metadata": {},
   "outputs": [
    {
     "name": "stdout",
     "output_type": "stream",
     "text": [
      "Model: \"sequential_2\"\n",
      "_________________________________________________________________\n",
      " Layer (type)                Output Shape              Param #   \n",
      "=================================================================\n",
      " embedding_vocab (Embedding)  (30, 20, 200)            2000000   \n",
      "                                                                 \n",
      " rnn_2 (RNN)                 (30, 20, 128)             671088    \n",
      "                                                                 \n",
      " dense_2 (Dense)             (30, 20, 10000)           1290000   \n",
      "                                                                 \n",
      " activation_2 (Activation)   (30, 20, 10000)           0         \n",
      "                                                                 \n",
      "=================================================================\n",
      "Total params: 3,961,088\n",
      "Trainable params: 3,955,088\n",
      "Non-trainable params: 6,000\n",
      "_________________________________________________________________\n",
      "Epoch 1 : Learning rate: 1.000\n",
      "Itr 10 of 1549, perplexity: 4633.614 speed: 1086 wps\n",
      "Itr 164 of 1549, perplexity: 1089.464 speed: 1067 wps\n",
      "Itr 318 of 1549, perplexity: 839.997 speed: 1064 wps\n",
      "Itr 472 of 1549, perplexity: 697.519 speed: 1045 wps\n",
      "Itr 626 of 1549, perplexity: 595.222 speed: 938 wps\n",
      "Itr 780 of 1549, perplexity: 530.188 speed: 906 wps\n",
      "Itr 934 of 1549, perplexity: 478.725 speed: 892 wps\n",
      "Itr 1088 of 1549, perplexity: 439.731 speed: 880 wps\n",
      "Itr 1242 of 1549, perplexity: 409.495 speed: 865 wps\n",
      "Itr 1396 of 1549, perplexity: 381.291 speed: 869 wps\n",
      "Epoch 1 : Train Perplexity: 359.008\n",
      "Epoch 1 : Valid Perplexity: 212.102\n",
      "Epoch 2 : Learning rate: 1.000\n",
      "Itr 10 of 1549, perplexity: 236.182 speed: 1127 wps\n",
      "Itr 164 of 1549, perplexity: 210.880 speed: 1187 wps\n",
      "Itr 318 of 1549, perplexity: 201.925 speed: 1184 wps\n",
      "Itr 472 of 1549, perplexity: 193.706 speed: 1181 wps\n",
      "Itr 626 of 1549, perplexity: 184.849 speed: 1181 wps\n",
      "Itr 780 of 1549, perplexity: 181.127 speed: 1164 wps\n",
      "Itr 934 of 1549, perplexity: 177.158 speed: 1146 wps\n",
      "Itr 1088 of 1549, perplexity: 173.854 speed: 1151 wps\n",
      "Itr 1242 of 1549, perplexity: 171.491 speed: 1153 wps\n",
      "Itr 1396 of 1549, perplexity: 167.371 speed: 1157 wps\n",
      "Epoch 2 : Train Perplexity: 164.619\n",
      "Epoch 2 : Valid Perplexity: 161.141\n",
      "Epoch 3 : Learning rate: 1.000\n",
      "Itr 10 of 1549, perplexity: 163.397 speed: 1186 wps\n",
      "Itr 164 of 1549, perplexity: 147.730 speed: 1133 wps\n",
      "Itr 318 of 1549, perplexity: 143.652 speed: 840 wps\n",
      "Itr 472 of 1549, perplexity: 139.224 speed: 768 wps\n",
      "Itr 626 of 1549, perplexity: 134.171 speed: 742 wps\n",
      "Itr 780 of 1549, perplexity: 132.902 speed: 731 wps\n",
      "Itr 934 of 1549, perplexity: 131.191 speed: 770 wps\n",
      "Itr 1088 of 1549, perplexity: 129.645 speed: 806 wps\n",
      "Itr 1242 of 1549, perplexity: 128.848 speed: 820 wps\n",
      "Itr 1396 of 1549, perplexity: 126.531 speed: 792 wps\n",
      "Epoch 3 : Train Perplexity: 125.311\n",
      "Epoch 3 : Valid Perplexity: 146.013\n",
      "Epoch 4 : Learning rate: 1.000\n",
      "Itr 10 of 1549, perplexity: 130.984 speed: 1161 wps\n",
      "Itr 164 of 1549, perplexity: 120.343 speed: 1175 wps\n",
      "Itr 318 of 1549, perplexity: 117.865 speed: 1172 wps\n",
      "Itr 472 of 1549, perplexity: 114.541 speed: 1169 wps\n",
      "Itr 626 of 1549, perplexity: 110.833 speed: 1168 wps\n",
      "Itr 780 of 1549, perplexity: 110.349 speed: 1169 wps\n",
      "Itr 934 of 1549, perplexity: 109.319 speed: 1169 wps\n",
      "Itr 1088 of 1549, perplexity: 108.371 speed: 1169 wps\n",
      "Itr 1242 of 1549, perplexity: 108.003 speed: 1168 wps\n",
      "Itr 1396 of 1549, perplexity: 106.384 speed: 1168 wps\n",
      "Epoch 4 : Train Perplexity: 105.605\n",
      "Epoch 4 : Valid Perplexity: 137.599\n",
      "Epoch 5 : Learning rate: 1.000\n",
      "Itr 10 of 1549, perplexity: 112.752 speed: 1111 wps\n",
      "Itr 164 of 1549, perplexity: 104.633 speed: 1168 wps\n",
      "Itr 318 of 1549, perplexity: 102.899 speed: 1170 wps\n",
      "Itr 626 of 1549, perplexity: 97.099 speed: 1173 wps\n",
      "Itr 780 of 1549, perplexity: 96.972 speed: 1175 wps\n",
      "Itr 934 of 1549, perplexity: 96.221 speed: 1175 wps\n",
      "Itr 1088 of 1549, perplexity: 95.603 speed: 1174 wps\n",
      "Itr 1242 of 1549, perplexity: 95.437 speed: 1173 wps\n",
      "Itr 1396 of 1549, perplexity: 94.119 speed: 1175 wps\n",
      "Epoch 5 : Train Perplexity: 93.579\n",
      "Epoch 5 : Valid Perplexity: 133.471\n",
      "Epoch 6 : Learning rate: 0.500\n",
      "Itr 10 of 1549, perplexity: 100.558 speed: 1149 wps\n",
      "Itr 164 of 1549, perplexity: 91.031 speed: 1181 wps\n",
      "Itr 318 of 1549, perplexity: 88.267 speed: 1178 wps\n",
      "Itr 472 of 1549, perplexity: 85.017 speed: 1179 wps\n",
      "Itr 626 of 1549, perplexity: 81.492 speed: 1175 wps\n",
      "Itr 780 of 1549, perplexity: 80.712 speed: 1169 wps\n",
      "Itr 934 of 1549, perplexity: 79.530 speed: 1166 wps\n",
      "Itr 1088 of 1549, perplexity: 78.430 speed: 1165 wps\n",
      "Itr 1242 of 1549, perplexity: 77.747 speed: 1166 wps\n",
      "Itr 1396 of 1549, perplexity: 76.088 speed: 1165 wps\n",
      "Epoch 6 : Train Perplexity: 75.081\n",
      "Epoch 6 : Valid Perplexity: 124.329\n",
      "Epoch 7 : Learning rate: 0.250\n",
      "Itr 10 of 1549, perplexity: 84.176 speed: 985 wps\n",
      "Itr 164 of 1549, perplexity: 78.198 speed: 996 wps\n",
      "Itr 318 of 1549, perplexity: 75.988 speed: 1021 wps\n",
      "Itr 472 of 1549, perplexity: 73.120 speed: 1005 wps\n",
      "Itr 626 of 1549, perplexity: 69.957 speed: 1030 wps\n",
      "Itr 780 of 1549, perplexity: 69.203 speed: 1045 wps\n",
      "Itr 934 of 1549, perplexity: 68.114 speed: 1052 wps\n",
      "Itr 1088 of 1549, perplexity: 67.056 speed: 1057 wps\n"
     ]
    }
   ],
   "source": [
    "# Instantiates the PTBModel class\n",
    "m=PTBModel.instance()   \n",
    "K = tf.keras.backend \n",
    "for i in range(max_epoch):\n",
    "    # Define the decay for this epoch\n",
    "    lr_decay = decay ** max(i - max_epoch_decay_lr, 0.0)\n",
    "    dcr = learning_rate * lr_decay\n",
    "    m._lr = dcr\n",
    "    K.set_value(m._model.optimizer.learning_rate,m._lr)\n",
    "    print(\"Epoch %d : Learning rate: %.3f\" % (i + 1, m._model.optimizer.learning_rate))\n",
    "    # Run the loop for this epoch in the training mode\n",
    "    train_perplexity = run_one_epoch(m, train_data,is_training=True,verbose=True)\n",
    "    print(\"Epoch %d : Train Perplexity: %.3f\" % (i + 1, train_perplexity))\n",
    "        \n",
    "    # Run the loop for this epoch in the validation mode\n",
    "    valid_perplexity = run_one_epoch(m, valid_data,is_training=False,verbose=False)\n",
    "    print(\"Epoch %d : Valid Perplexity: %.3f\" % (i + 1, valid_perplexity))\n",
    "    \n",
    "# Run the loop in the testing mode to see how effective was our training\n",
    "test_perplexity = run_one_epoch(m, test_data,is_training=False,verbose=False)\n",
    "print(\"Test Perplexity: %.3f\" % test_perplexity)\n",
    "\n"
   ]
  },
  {
   "cell_type": "markdown",
   "metadata": {},
   "source": [
    "As you can see, the model's perplexity rating drops very quickly after a few iterations. As was elaborated before, <b>lower Perplexity means that the model is more certain about its prediction</b>. As such, we can be sure that this model is performing well!\n"
   ]
  },
  {
   "cell_type": "markdown",
   "metadata": {},
   "source": [
    "-------\n"
   ]
  },
  {
   "cell_type": "markdown",
   "metadata": {},
   "source": [
    "This is the end of the <b>Applying Recurrent Neural Networks to Text Processing</b> notebook. Hopefully you now have a better understanding of Recurrent Neural Networks and how to implement one utilizing TensorFlow. Thank you for reading this notebook, and good luck on your studies.\n"
   ]
  },
  {
   "cell_type": "markdown",
   "metadata": {},
   "source": [
    "## Want to learn more?\n",
    "\n",
    "Also, you can use __Watson Studio__ to run these notebooks faster with bigger datasets.__Watson Studio__ is IBM’s leading cloud solution for data scientists, built by data scientists. With Jupyter notebooks, RStudio, Apache Spark and popular libraries pre-packaged in the cloud, __Watson Studio__ enables data scientists to collaborate on their projects without having to install anything. Join the fast-growing community of __Watson Studio__ users today with a free account at [Watson Studio](https://cocl.us/ML0120EN_DSX).This is the end of this lesson. Thank you for reading this notebook, and good luck on your studies.\n"
   ]
  },
  {
   "cell_type": "markdown",
   "metadata": {},
   "source": [
    "### Thanks for completing this lesson!\n",
    "\n",
    "Notebook created by <a href=\"https://br.linkedin.com/in/walter-gomes-de-amorim-junior-624726121?utm_medium=Exinfluencer&utm_source=Exinfluencer&utm_content=000026UJ&utm_term=10006555&utm_id=NA-SkillsNetwork-Channel-SkillsNetworkCoursesIBMDeveloperSkillsNetworkDL0120ENSkillsNetwork954-2023-01-01\">Walter Gomes de Amorim Junior</a>, <a href = \"https://linkedin.com/in/saeedaghabozorgi\"> Saeed Aghabozorgi </a></h4>\n",
    "\n",
    "\n",
    "Updated to TF 2.X by  <a href=\"https://www.linkedin.com/in/samaya-madhavan?utm_medium=Exinfluencer&utm_source=Exinfluencer&utm_content=000026UJ&utm_term=10006555&utm_id=NA-SkillsNetwork-Channel-SkillsNetworkCoursesIBMDeveloperSkillsNetworkDL0120ENSkillsNetwork954-2023-01-01\"> Samaya Madhavan </a>\n"
   ]
  },
  {
   "cell_type": "markdown",
   "metadata": {},
   "source": [
    "<hr>\n",
    "\n",
    "Copyright &copy; 2018 [Cognitive Class](https://cocl.us/DX0108EN_CC). This notebook and its source code are released under the terms of the [MIT License](https://bigdatauniversity.com/mit-license/?utm_medium=Exinfluencer&utm_source=Exinfluencer&utm_content=000026UJ&utm_term=10006555&utm_id=NA-SkillsNetwork-Channel-SkillsNetworkCoursesIBMDeveloperSkillsNetworkDL0120ENSkillsNetwork954-2023-01-01).\n"
   ]
  }
 ],
 "metadata": {
  "kernelspec": {
   "display_name": "Python",
   "language": "python",
   "name": "conda-env-python-py"
  },
  "language_info": {
   "codemirror_mode": {
    "name": "ipython",
    "version": 3
   },
   "file_extension": ".py",
   "mimetype": "text/x-python",
   "name": "python",
   "nbconvert_exporter": "python",
   "pygments_lexer": "ipython3",
   "version": "3.7.12"
  }
 },
 "nbformat": 4,
 "nbformat_minor": 4
}
