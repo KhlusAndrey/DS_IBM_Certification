{
 "cells": [
  {
   "cell_type": "markdown",
   "id": "3e1816be-d323-48b7-a1b2-62206c4fcd5e",
   "metadata": {},
   "source": [
    "# Regression Models with Keras"
   ]
  },
  {
   "cell_type": "markdown",
   "id": "17da7a19-699e-4e77-9ab7-60ce439ccf5e",
   "metadata": {},
   "source": [
    "### A. Build a baseline model.\n",
    "#####     Use the **Keras** library to build a neural network with the following:\n",
    "#####          - One hidden layer of **10 nodes**, and a **ReLU** activation function\n",
    "#####          - Use the **adam*** optimizer and **mean squared error** as the loss function.\n",
    "        \n",
    "#### 1. Randomly split the data into a training and test sets by holding 30% of the data for testing. You can use the helper **train_test_split** function from Scikit-learn.\n",
    "#### 2. Train the model on the training data using 50 epochs\n",
    "#### 3. Evaluate the model on the test data and compute the mean squared error between the predicted concrete strength and the actual concrete strength. You can use the mean_squared_error function from Scikit-learn.\n",
    "#### 4. Repeat steps 1 - 3, 50 times, i.e., create a list of 50 mean squared errors.\n",
    "#### 5. Report the mean and the standard deviation of the mean squared errors."
   ]
  },
  {
   "cell_type": "code",
   "execution_count": 1,
   "id": "9b968cba-7f5d-439e-bb64-aaf802171983",
   "metadata": {
    "tags": []
   },
   "outputs": [],
   "source": [
    "!pip install -q keras"
   ]
  },
  {
   "cell_type": "code",
   "execution_count": 11,
   "id": "24643cf0-b1ed-4ff3-8cb5-ad4bf8b8fa5e",
   "metadata": {
    "tags": []
   },
   "outputs": [],
   "source": [
    "import pandas as pd\n",
    "import numpy as np\n",
    "from sklearn.model_selection import train_test_split\n",
    "from sklearn.metrics import mean_squared_error\n",
    "from tqdm import tqdm\n",
    "\n",
    "import keras\n",
    "from keras.models import Sequential\n",
    "from keras.layers import Dense"
   ]
  },
  {
   "cell_type": "markdown",
   "id": "506122aa-aafa-499b-b42c-0a8c684e98ff",
   "metadata": {},
   "source": [
    "We will be playing around with the same dataset that we used in the videos.\n",
    "\n",
    "<strong>The dataset is about the compressive strength of different samples of concrete based on the volumes of the different ingredients that were used to make them. Ingredients include:</strong>\n",
    "\n",
    "<strong>1. Cement</strong>\n",
    "\n",
    "<strong>2. Blast Furnace Slag</strong>\n",
    "\n",
    "<strong>3. Fly Ash</strong>\n",
    "\n",
    "<strong>4. Water</strong>\n",
    "\n",
    "<strong>5. Superplasticizer</strong>\n",
    "\n",
    "<strong>6. Coarse Aggregate</strong>\n",
    "\n",
    "<strong>7. Fine Aggregate</strong>\n"
   ]
  },
  {
   "cell_type": "code",
   "execution_count": 16,
   "id": "30120b64-752d-4d7b-9641-bf2446c833d2",
   "metadata": {
    "tags": []
   },
   "outputs": [],
   "source": [
    "!wget -q https://cocl.us/concrete_data"
   ]
  },
  {
   "cell_type": "code",
   "execution_count": 3,
   "id": "e3b66215-368a-4ba8-aa64-26b217782c40",
   "metadata": {
    "tags": []
   },
   "outputs": [
    {
     "data": {
      "text/html": [
       "<div>\n",
       "<style scoped>\n",
       "    .dataframe tbody tr th:only-of-type {\n",
       "        vertical-align: middle;\n",
       "    }\n",
       "\n",
       "    .dataframe tbody tr th {\n",
       "        vertical-align: top;\n",
       "    }\n",
       "\n",
       "    .dataframe thead th {\n",
       "        text-align: right;\n",
       "    }\n",
       "</style>\n",
       "<table border=\"1\" class=\"dataframe\">\n",
       "  <thead>\n",
       "    <tr style=\"text-align: right;\">\n",
       "      <th></th>\n",
       "      <th>Cement</th>\n",
       "      <th>Blast Furnace Slag</th>\n",
       "      <th>Fly Ash</th>\n",
       "      <th>Water</th>\n",
       "      <th>Superplasticizer</th>\n",
       "      <th>Coarse Aggregate</th>\n",
       "      <th>Fine Aggregate</th>\n",
       "      <th>Age</th>\n",
       "      <th>Strength</th>\n",
       "    </tr>\n",
       "  </thead>\n",
       "  <tbody>\n",
       "    <tr>\n",
       "      <th>0</th>\n",
       "      <td>540.0</td>\n",
       "      <td>0.0</td>\n",
       "      <td>0.0</td>\n",
       "      <td>162.0</td>\n",
       "      <td>2.5</td>\n",
       "      <td>1040.0</td>\n",
       "      <td>676.0</td>\n",
       "      <td>28</td>\n",
       "      <td>79.99</td>\n",
       "    </tr>\n",
       "    <tr>\n",
       "      <th>1</th>\n",
       "      <td>540.0</td>\n",
       "      <td>0.0</td>\n",
       "      <td>0.0</td>\n",
       "      <td>162.0</td>\n",
       "      <td>2.5</td>\n",
       "      <td>1055.0</td>\n",
       "      <td>676.0</td>\n",
       "      <td>28</td>\n",
       "      <td>61.89</td>\n",
       "    </tr>\n",
       "    <tr>\n",
       "      <th>2</th>\n",
       "      <td>332.5</td>\n",
       "      <td>142.5</td>\n",
       "      <td>0.0</td>\n",
       "      <td>228.0</td>\n",
       "      <td>0.0</td>\n",
       "      <td>932.0</td>\n",
       "      <td>594.0</td>\n",
       "      <td>270</td>\n",
       "      <td>40.27</td>\n",
       "    </tr>\n",
       "    <tr>\n",
       "      <th>3</th>\n",
       "      <td>332.5</td>\n",
       "      <td>142.5</td>\n",
       "      <td>0.0</td>\n",
       "      <td>228.0</td>\n",
       "      <td>0.0</td>\n",
       "      <td>932.0</td>\n",
       "      <td>594.0</td>\n",
       "      <td>365</td>\n",
       "      <td>41.05</td>\n",
       "    </tr>\n",
       "    <tr>\n",
       "      <th>4</th>\n",
       "      <td>198.6</td>\n",
       "      <td>132.4</td>\n",
       "      <td>0.0</td>\n",
       "      <td>192.0</td>\n",
       "      <td>0.0</td>\n",
       "      <td>978.4</td>\n",
       "      <td>825.5</td>\n",
       "      <td>360</td>\n",
       "      <td>44.30</td>\n",
       "    </tr>\n",
       "  </tbody>\n",
       "</table>\n",
       "</div>"
      ],
      "text/plain": [
       "   Cement  Blast Furnace Slag  Fly Ash  Water  Superplasticizer  \\\n",
       "0   540.0                 0.0      0.0  162.0               2.5   \n",
       "1   540.0                 0.0      0.0  162.0               2.5   \n",
       "2   332.5               142.5      0.0  228.0               0.0   \n",
       "3   332.5               142.5      0.0  228.0               0.0   \n",
       "4   198.6               132.4      0.0  192.0               0.0   \n",
       "\n",
       "   Coarse Aggregate  Fine Aggregate  Age  Strength  \n",
       "0            1040.0           676.0   28     79.99  \n",
       "1            1055.0           676.0   28     61.89  \n",
       "2             932.0           594.0  270     40.27  \n",
       "3             932.0           594.0  365     41.05  \n",
       "4             978.4           825.5  360     44.30  "
      ]
     },
     "execution_count": 3,
     "metadata": {},
     "output_type": "execute_result"
    }
   ],
   "source": [
    "df = pd.read_csv('./concrete_data')\n",
    "df.head()"
   ]
  },
  {
   "cell_type": "code",
   "execution_count": 4,
   "id": "f5be752d-8c4f-4e17-95e8-e9aa624fbc87",
   "metadata": {
    "tags": []
   },
   "outputs": [
    {
     "name": "stdout",
     "output_type": "stream",
     "text": [
      "<class 'pandas.core.frame.DataFrame'>\n",
      "RangeIndex: 1030 entries, 0 to 1029\n",
      "Data columns (total 9 columns):\n",
      " #   Column              Non-Null Count  Dtype  \n",
      "---  ------              --------------  -----  \n",
      " 0   Cement              1030 non-null   float64\n",
      " 1   Blast Furnace Slag  1030 non-null   float64\n",
      " 2   Fly Ash             1030 non-null   float64\n",
      " 3   Water               1030 non-null   float64\n",
      " 4   Superplasticizer    1030 non-null   float64\n",
      " 5   Coarse Aggregate    1030 non-null   float64\n",
      " 6   Fine Aggregate      1030 non-null   float64\n",
      " 7   Age                 1030 non-null   int64  \n",
      " 8   Strength            1030 non-null   float64\n",
      "dtypes: float64(8), int64(1)\n",
      "memory usage: 72.5 KB\n"
     ]
    }
   ],
   "source": [
    "df.info()"
   ]
  },
  {
   "cell_type": "code",
   "execution_count": 5,
   "id": "5a1ee1e2-04c9-4989-b4c3-5fddb0f06018",
   "metadata": {
    "tags": []
   },
   "outputs": [
    {
     "data": {
      "text/plain": [
       "Cement                0.0\n",
       "Blast Furnace Slag    0.0\n",
       "Fly Ash               0.0\n",
       "Water                 0.0\n",
       "Superplasticizer      0.0\n",
       "Coarse Aggregate      0.0\n",
       "Fine Aggregate        0.0\n",
       "Age                   0.0\n",
       "Strength              0.0\n",
       "dtype: float64"
      ]
     },
     "execution_count": 5,
     "metadata": {},
     "output_type": "execute_result"
    }
   ],
   "source": [
    "df.isna().mean()"
   ]
  },
  {
   "cell_type": "code",
   "execution_count": 6,
   "id": "ffb9d952-d761-491e-a6d4-facbd8bb5aa5",
   "metadata": {
    "tags": []
   },
   "outputs": [
    {
     "data": {
      "text/plain": [
       "Index(['Cement', 'Blast Furnace Slag', 'Fly Ash', 'Water', 'Superplasticizer',\n",
       "       'Coarse Aggregate', 'Fine Aggregate', 'Age', 'Strength'],\n",
       "      dtype='object')"
      ]
     },
     "execution_count": 6,
     "metadata": {},
     "output_type": "execute_result"
    }
   ],
   "source": [
    "df.columns"
   ]
  },
  {
   "cell_type": "code",
   "execution_count": 7,
   "id": "e5450085-3eba-49a4-a9d3-ea7c7e8e129f",
   "metadata": {
    "tags": []
   },
   "outputs": [],
   "source": [
    "X = ['Cement', 'Blast Furnace Slag', 'Fly Ash', 'Water', 'Superplasticizer',\n",
    "       'Coarse Aggregate', 'Fine Aggregate', 'Age']\n",
    "\n",
    "y = ['Strength']"
   ]
  },
  {
   "cell_type": "code",
   "execution_count": 8,
   "id": "c3f47ba7-4744-4d00-a964-f22d28312d7b",
   "metadata": {
    "tags": []
   },
   "outputs": [],
   "source": [
    "n_cols = df[X].shape[1]"
   ]
  },
  {
   "cell_type": "code",
   "execution_count": 9,
   "id": "d627d9f5-3ce5-4ed9-ada6-bf95c4aba45e",
   "metadata": {
    "tags": []
   },
   "outputs": [],
   "source": [
    "def regression_baseline_model():\n",
    "    \n",
    "    # create model\n",
    "    model = Sequential()\n",
    "    model.add(Dense(10, activation='relu', input_shape=(n_cols,)))\n",
    "    model.add(Dense(1))\n",
    "    \n",
    "    # compile model\n",
    "    model.compile(optimizer='adam', loss='mean_squared_error')\n",
    "    return model"
   ]
  },
  {
   "cell_type": "code",
   "execution_count": 12,
   "id": "5d3e9aba-cba3-42ee-9707-15756823e1c6",
   "metadata": {
    "tags": []
   },
   "outputs": [
    {
     "name": "stderr",
     "output_type": "stream",
     "text": [
      "100%|██████████| 50/50 [03:45<00:00,  4.52s/it]\n"
     ]
    }
   ],
   "source": [
    "mse_list = []\n",
    "\n",
    "for _ in tqdm(range(50)):\n",
    "    X_train, X_test, y_train, y_test = train_test_split(df[X], df[y], test_size=0.3)\n",
    "    model = regression_baseline_model()\n",
    "    model.fit(X_train, y_train, epochs=50, verbose=0)\n",
    "    y_pred = model.predict(X_test)\n",
    "    mse = mean_squared_error(y_test, y_pred)\n",
    "    mse_list.append(mse)"
   ]
  },
  {
   "cell_type": "code",
   "execution_count": 13,
   "id": "5cb9e45c-b0c9-4265-97a1-eb41f8e2dd8b",
   "metadata": {
    "tags": []
   },
   "outputs": [
    {
     "data": {
      "image/png": "[encoded data removed]",
      "text/plain": [
       "<Figure size 640x480 with 1 Axes>"
      ]
     },
     "metadata": {},
     "output_type": "display_data"
    }
   ],
   "source": [
    "import matplotlib.pyplot as plt\n",
    "plt.style.use('dark_background')\n",
    "\n",
    "plt.hist(mse_list) \n",
    "plt.title('Mean Squared Errors Histogram')\n",
    "plt.xlabel('Mean Squared Error')\n",
    "plt.ylabel('Frequency')\n",
    "plt.show()"
   ]
  },
  {
   "cell_type": "markdown",
   "id": "a3778a05-8b56-45c6-bd9d-5f4f9f4c9a94",
   "metadata": {},
   "source": [
    "### Report the mean of the mean squared errors"
   ]
  },
  {
   "cell_type": "code",
   "execution_count": 14,
   "id": "e85833a6-291c-4aff-bd76-7d4858a97f64",
   "metadata": {
    "tags": []
   },
   "outputs": [
    {
     "name": "stdout",
     "output_type": "stream",
     "text": [
      "The mean of the mean squared errors is 446.89\n"
     ]
    }
   ],
   "source": [
    "mean_mse = np.mean(mse_list)\n",
    "print(f'The mean of the mean squared errors is {mean_mse:.2f}')"
   ]
  },
  {
   "cell_type": "markdown",
   "id": "d220979f-5db8-4097-ba12-35d35d91f2f8",
   "metadata": {},
   "source": [
    "### Report the standard deviation of the mean squared errors"
   ]
  },
  {
   "cell_type": "code",
   "execution_count": 15,
   "id": "e8f97d2e-6e03-407c-abbe-f3c27c775ad0",
   "metadata": {
    "tags": []
   },
   "outputs": [
    {
     "name": "stdout",
     "output_type": "stream",
     "text": [
      "The standard deviation of the mean squared errors is 573.86\n"
     ]
    }
   ],
   "source": [
    "std_mse = np.std(mse_list)\n",
    "print(f'The standard deviation of the mean squared errors is {std_mse:.2f}')"
   ]
  },
  {
   "cell_type": "markdown",
   "id": "7d805152-8f83-4cd9-96e7-010664ce3ce4",
   "metadata": {},
   "source": [
    "## B. Normalize the data "
   ]
  },
  {
   "cell_type": "markdown",
   "id": "2588e7a5-a2a4-4d87-9f81-17947fa568be",
   "metadata": {},
   "source": [
    "### Repeat Part A but use a normalized version of the data. Recall that one way to normalize the data is by subtracting the mean from the individual predictors and dividing by the standard deviation.\n",
    "\n",
    "### How does the mean of the mean squared errors compare to that from Step A?"
   ]
  },
  {
   "cell_type": "markdown",
   "id": "b2a0905d-9745-433f-84e7-dbc8c3cc8387",
   "metadata": {},
   "source": [
    "## Normalize the data by substracting the mean and dividing by the standard deviation."
   ]
  },
  {
   "cell_type": "code",
   "execution_count": 16,
   "id": "745c492c-b98c-4d55-b27a-f5dc56981ada",
   "metadata": {
    "tags": []
   },
   "outputs": [
    {
     "data": {
      "text/html": [
       "<div>\n",
       "<style scoped>\n",
       "    .dataframe tbody tr th:only-of-type {\n",
       "        vertical-align: middle;\n",
       "    }\n",
       "\n",
       "    .dataframe tbody tr th {\n",
       "        vertical-align: top;\n",
       "    }\n",
       "\n",
       "    .dataframe thead th {\n",
       "        text-align: right;\n",
       "    }\n",
       "</style>\n",
       "<table border=\"1\" class=\"dataframe\">\n",
       "  <thead>\n",
       "    <tr style=\"text-align: right;\">\n",
       "      <th></th>\n",
       "      <th>Cement</th>\n",
       "      <th>Blast Furnace Slag</th>\n",
       "      <th>Fly Ash</th>\n",
       "      <th>Water</th>\n",
       "      <th>Superplasticizer</th>\n",
       "      <th>Coarse Aggregate</th>\n",
       "      <th>Fine Aggregate</th>\n",
       "      <th>Age</th>\n",
       "    </tr>\n",
       "  </thead>\n",
       "  <tbody>\n",
       "    <tr>\n",
       "      <th>0</th>\n",
       "      <td>2.476712</td>\n",
       "      <td>-0.856472</td>\n",
       "      <td>-0.846733</td>\n",
       "      <td>-0.916319</td>\n",
       "      <td>-0.620147</td>\n",
       "      <td>0.862735</td>\n",
       "      <td>-1.217079</td>\n",
       "      <td>-0.279597</td>\n",
       "    </tr>\n",
       "    <tr>\n",
       "      <th>1</th>\n",
       "      <td>2.476712</td>\n",
       "      <td>-0.856472</td>\n",
       "      <td>-0.846733</td>\n",
       "      <td>-0.916319</td>\n",
       "      <td>-0.620147</td>\n",
       "      <td>1.055651</td>\n",
       "      <td>-1.217079</td>\n",
       "      <td>-0.279597</td>\n",
       "    </tr>\n",
       "    <tr>\n",
       "      <th>2</th>\n",
       "      <td>0.491187</td>\n",
       "      <td>0.795140</td>\n",
       "      <td>-0.846733</td>\n",
       "      <td>2.174405</td>\n",
       "      <td>-1.038638</td>\n",
       "      <td>-0.526262</td>\n",
       "      <td>-2.239829</td>\n",
       "      <td>3.551340</td>\n",
       "    </tr>\n",
       "    <tr>\n",
       "      <th>3</th>\n",
       "      <td>0.491187</td>\n",
       "      <td>0.795140</td>\n",
       "      <td>-0.846733</td>\n",
       "      <td>2.174405</td>\n",
       "      <td>-1.038638</td>\n",
       "      <td>-0.526262</td>\n",
       "      <td>-2.239829</td>\n",
       "      <td>5.055221</td>\n",
       "    </tr>\n",
       "    <tr>\n",
       "      <th>4</th>\n",
       "      <td>-0.790075</td>\n",
       "      <td>0.678079</td>\n",
       "      <td>-0.846733</td>\n",
       "      <td>0.488555</td>\n",
       "      <td>-1.038638</td>\n",
       "      <td>0.070492</td>\n",
       "      <td>0.647569</td>\n",
       "      <td>4.976069</td>\n",
       "    </tr>\n",
       "  </tbody>\n",
       "</table>\n",
       "</div>"
      ],
      "text/plain": [
       "     Cement  Blast Furnace Slag   Fly Ash     Water  Superplasticizer  \\\n",
       "0  2.476712           -0.856472 -0.846733 -0.916319         -0.620147   \n",
       "1  2.476712           -0.856472 -0.846733 -0.916319         -0.620147   \n",
       "2  0.491187            0.795140 -0.846733  2.174405         -1.038638   \n",
       "3  0.491187            0.795140 -0.846733  2.174405         -1.038638   \n",
       "4 -0.790075            0.678079 -0.846733  0.488555         -1.038638   \n",
       "\n",
       "   Coarse Aggregate  Fine Aggregate       Age  \n",
       "0          0.862735       -1.217079 -0.279597  \n",
       "1          1.055651       -1.217079 -0.279597  \n",
       "2         -0.526262       -2.239829  3.551340  \n",
       "3         -0.526262       -2.239829  5.055221  \n",
       "4          0.070492        0.647569  4.976069  "
      ]
     },
     "execution_count": 16,
     "metadata": {},
     "output_type": "execute_result"
    }
   ],
   "source": [
    "df_norm = (df[X] - df[X].mean()) / df[X].std()\n",
    "df_norm.head()"
   ]
  },
  {
   "cell_type": "code",
   "execution_count": 17,
   "id": "d52bbd18-d559-40f1-bc39-1208f032ef56",
   "metadata": {
    "tags": []
   },
   "outputs": [
    {
     "name": "stderr",
     "output_type": "stream",
     "text": [
      "100%|██████████| 50/50 [06:13<00:00,  7.48s/it]\n"
     ]
    }
   ],
   "source": [
    "mse_list_norm = []\n",
    "\n",
    "for _ in tqdm(range(50)):\n",
    "    X_train, X_test, y_train, y_test = train_test_split(df_norm, df[y], test_size=0.3)\n",
    "    model = regression_baseline_model()\n",
    "    model.fit(X_train, y_train, epochs=50, verbose=0)\n",
    "    y_pred = model.predict(X_test)\n",
    "    mse = mean_squared_error(y_test, y_pred)\n",
    "    mse_list_norm.append(mse)"
   ]
  },
  {
   "cell_type": "markdown",
   "id": "10bea2bf-b20c-4354-bb24-3550dd3c22df",
   "metadata": {},
   "source": [
    "### Report the mean of the mean squared errors"
   ]
  },
  {
   "cell_type": "code",
   "execution_count": 21,
   "id": "9b138d05-20a7-4be1-8122-e7152da6533d",
   "metadata": {
    "tags": []
   },
   "outputs": [
    {
     "name": "stdout",
     "output_type": "stream",
     "text": [
      "The mean of the mean squared errors is 351.88\n"
     ]
    }
   ],
   "source": [
    "mean_mse_norm = np.mean(mse_list_norm)\n",
    "print(f'The mean of the mean squared errors is {mean_mse_norm:.2f}')"
   ]
  },
  {
   "cell_type": "markdown",
   "id": "b43d1782-eb3f-4b5e-826b-bb2ef5f8dc6a",
   "metadata": {},
   "source": [
    "### Report the standard deviation of the mean squared errors"
   ]
  },
  {
   "cell_type": "code",
   "execution_count": 20,
   "id": "88ba8bc7-cb23-4f1e-a56f-d4efb986259a",
   "metadata": {
    "tags": []
   },
   "outputs": [
    {
     "name": "stdout",
     "output_type": "stream",
     "text": [
      "The standard deviation of the mean squared errors is 86.06\n"
     ]
    }
   ],
   "source": [
    "std_mse_norm = np.std(mse_list_norm)\n",
    "print(f'The standard deviation of the mean squared errors is {std_mse_norm:.2f}')"
   ]
  },
  {
   "cell_type": "markdown",
   "id": "823eb371-f148-4b03-a1bf-57809bc95fd8",
   "metadata": {
    "tags": []
   },
   "source": [
    "#### Compare mse and std with standart and normalization data"
   ]
  },
  {
   "cell_type": "markdown",
   "id": "e7e8e7cc-1409-42c4-894a-1f150c549eda",
   "metadata": {
    "tags": []
   },
   "source": [
    "|    | standart      | normalization  |\n",
    "|----|---------------|----------------|\n",
    "|mean| { mean_mse }     | { mean_mse_norm }|\n",
    "|std | { std_mse }      | { std_mse_norm } |"
   ]
  },
  {
   "cell_type": "code",
   "execution_count": 32,
   "id": "8c082571-34a3-4a6f-b75d-40719df862a9",
   "metadata": {
    "tags": []
   },
   "outputs": [
    {
     "name": "stdout",
     "output_type": "stream",
     "text": [
      "For standart data mean mse is 446.89 and std is 573.86 \n",
      "For normalization data mean mse is 351.88 and std is 86.06\n"
     ]
    }
   ],
   "source": [
    "print(f'For standart data mean mse is {mean_mse:.2f} and std is {std_mse:.2f} \\nFor normalization data mean mse is {mean_mse_norm:.2f} and std is {std_mse_norm:.2f}')"
   ]
  },
  {
   "cell_type": "markdown",
   "id": "3415fba7-c8ea-48d0-9684-025abf8fcb08",
   "metadata": {},
   "source": [
    "## C. Increate the number of epochs \n",
    "#### Repeat Part B but use 100 epochs this time for training\n",
    "#### How does the mean of the mean squared errors compare to that from Step B?"
   ]
  },
  {
   "cell_type": "code",
   "execution_count": 33,
   "id": "833affe5-ce58-4e04-a9b4-097bde984188",
   "metadata": {
    "tags": []
   },
   "outputs": [
    {
     "name": "stderr",
     "output_type": "stream",
     "text": [
      "100%|██████████| 50/50 [11:45<00:00, 14.12s/it]\n"
     ]
    }
   ],
   "source": [
    "mse_list_norm_100 = []\n",
    "\n",
    "for _ in tqdm(range(50)):\n",
    "    X_train, X_test, y_train, y_test = train_test_split(df_norm, df[y], test_size=0.3)\n",
    "    model = regression_baseline_model()\n",
    "    model.fit(X_train, y_train, epochs=100, verbose=0)\n",
    "    y_pred = model.predict(X_test)\n",
    "    mse = mean_squared_error(y_test, y_pred)\n",
    "    mse_list_norm_100.append(mse)"
   ]
  },
  {
   "cell_type": "code",
   "execution_count": 34,
   "id": "91fa801d-d268-4fef-b8a0-2590774634f8",
   "metadata": {
    "tags": []
   },
   "outputs": [
    {
     "name": "stdout",
     "output_type": "stream",
     "text": [
      "The mean of the mean squared errors is 168.93\n",
      "The standard deviation of the mean squared errors is 25.52\n"
     ]
    }
   ],
   "source": [
    "mean_mse_norm_100 = np.mean(mse_list_norm_100)\n",
    "print(f'The mean of the mean squared errors is {mean_mse_norm_100:.2f}')\n",
    "std_mse_norm_100 = np.std(mse_list_norm_100)\n",
    "print(f'The standard deviation of the mean squared errors is {std_mse_norm_100:.2f}')"
   ]
  },
  {
   "cell_type": "code",
   "execution_count": 36,
   "id": "6a759e88-3c32-4edb-827c-7fabb635ad46",
   "metadata": {
    "tags": []
   },
   "outputs": [
    {
     "name": "stdout",
     "output_type": "stream",
     "text": [
      "For normalization data and 50 epochs mean mse is 351.88 and std is 86.06 \n",
      "For normalization data and 100 epochs mean mse is 168.93 and std is 25.52\n"
     ]
    }
   ],
   "source": [
    "print(f'For normalization data and 50 epochs mean mse is {mean_mse_norm:.2f} and std is {std_mse_norm:.2f}\\\n",
    "\\nFor normalization data and 100 epochs mean mse is {mean_mse_norm_100:.2f} and std is {std_mse_norm_100:.2f}')"
   ]
  },
  {
   "cell_type": "markdown",
   "id": "e21e92a5-9c48-4334-b317-bf5522a2df83",
   "metadata": {},
   "source": [
    "## D.  Increase the number of hidden layers \n",
    "#### Repeat part B but use a neural network with the following instead:\n",
    "#### - Three hidden layers, each of 10 nodes and ReLU activation function.\n",
    "#### How does the mean of the mean squared errors compare to that from Step B?"
   ]
  },
  {
   "cell_type": "code",
   "execution_count": 37,
   "id": "147ea5c9-5ff0-4fbc-9de3-f608d4fab99c",
   "metadata": {
    "tags": []
   },
   "outputs": [],
   "source": [
    "def regression_baseline_model_layers():\n",
    "    \n",
    "    # create model\n",
    "    model = Sequential()\n",
    "    model.add(Dense(10, activation='relu', input_shape=(n_cols,)))\n",
    "    model.add(Dense(10, activation='relu'))\n",
    "    model.add(Dense(10, activation='relu'))\n",
    "    model.add(Dense(10, activation='relu'))\n",
    "    model.add(Dense(10, activation='relu'))\n",
    "    model.add(Dense(1))\n",
    "    \n",
    "    # compile model\n",
    "    model.compile(optimizer='adam', loss='mean_squared_error')\n",
    "    return model"
   ]
  },
  {
   "cell_type": "code",
   "execution_count": 38,
   "id": "512c6175-292b-4f5c-8fa6-37c2533869b7",
   "metadata": {
    "tags": []
   },
   "outputs": [
    {
     "name": "stderr",
     "output_type": "stream",
     "text": [
      "100%|██████████| 50/50 [14:51<00:00, 17.83s/it]\n"
     ]
    }
   ],
   "source": [
    "mse_list_norm_layers = []\n",
    "\n",
    "for _ in tqdm(range(50)):\n",
    "    X_train, X_test, y_train, y_test = train_test_split(df_norm, df[y], test_size=0.3)\n",
    "    model = regression_baseline_model_layers()\n",
    "    model.fit(X_train, y_train, epochs=50, verbose=0)\n",
    "    y_pred = model.predict(X_test)\n",
    "    mse = mean_squared_error(y_test, y_pred)\n",
    "    mse_list_norm_layers.append(mse)"
   ]
  },
  {
   "cell_type": "code",
   "execution_count": 39,
   "id": "420ff5c5-c794-4784-aa72-5e688c86ee82",
   "metadata": {
    "tags": []
   },
   "outputs": [
    {
     "name": "stdout",
     "output_type": "stream",
     "text": [
      "The mean of the mean squared errors is 94.61\n",
      "The standard deviation of the mean squared errors is 21.25\n"
     ]
    }
   ],
   "source": [
    "mean_mse_norm_layers = np.mean(mse_list_norm_layers)\n",
    "print(f'The mean of the mean squared errors is {mean_mse_norm_layers:.2f}')\n",
    "std_mse_norm_layers = np.std(mse_list_norm_layers)\n",
    "print(f'The standard deviation of the mean squared errors is {std_mse_norm_layers:.2f}')"
   ]
  },
  {
   "cell_type": "code",
   "execution_count": 43,
   "id": "b4e01966-ba8a-415a-8638-a68721c45a6d",
   "metadata": {
    "tags": []
   },
   "outputs": [
    {
     "name": "stderr",
     "output_type": "stream",
     "text": [
      "100%|██████████| 50/50 [28:19<00:00, 34.00s/it]\n"
     ]
    }
   ],
   "source": [
    "mse_list_norm_100_layers = []\n",
    "\n",
    "for _ in tqdm(range(50)):\n",
    "    X_train, X_test, y_train, y_test = train_test_split(df_norm, df[y], test_size=0.3)\n",
    "    model = regression_baseline_model_layers()\n",
    "    model.fit(X_train, y_train, epochs=100, verbose=0)\n",
    "    y_pred = model.predict(X_test)\n",
    "    mse = mean_squared_error(y_test, y_pred)\n",
    "    mse_list_norm_100_layers.append(mse)"
   ]
  },
  {
   "cell_type": "code",
   "execution_count": 44,
   "id": "306d4f9c-5ce1-41fd-a0fc-ccfba84a294c",
   "metadata": {
    "tags": []
   },
   "outputs": [
    {
     "name": "stdout",
     "output_type": "stream",
     "text": [
      "The mean of the mean squared errors is 55.64\n",
      "The standard deviation of the mean squared errors is 13.27\n"
     ]
    }
   ],
   "source": [
    "mean_mse_norm_100_layers = np.mean(mse_list_norm_100_layers)\n",
    "print(f'The mean of the mean squared errors is {mean_mse_norm_100_layers:.2f}')\n",
    "std_mse_norm_100_layers = np.std(mse_list_norm_100_layers)\n",
    "print(f'The standard deviation of the mean squared errors is {std_mse_norm_100_layers:.2f}')"
   ]
  },
  {
   "cell_type": "code",
   "execution_count": 51,
   "id": "e2376ffc-b834-4d2c-a9c0-078035496a3c",
   "metadata": {
    "tags": []
   },
   "outputs": [
    {
     "name": "stdout",
     "output_type": "stream",
     "text": [
      "For normalization data and 1 layer model mean mse is 351.88 and std is 86.06\n",
      "\n",
      "For normalization data 1 leyer and 100 epochs mean mse is 168.93 and std is 25.52\n",
      "or difference in % mean 208.30% and std difference is 337.18% \n",
      "\n",
      "For normalization data and 4 additional layers mean mse is 94.61 and std is 21.25\n",
      "or difference in % mean 371.94% and std difference is 404.94% \n",
      "\n",
      "For normalization data and 4 additional layers and 100 epochs mean mse is 55.64 and std is 13.27 \n",
      "or difference in % mean 632.39% and std difference is 648.80%\n"
     ]
    }
   ],
   "source": [
    "print(f'For normalization data and 1 layer model mean mse is {mean_mse_norm:.2f} and std is {std_mse_norm:.2f}\\n\\n\\\n",
    "For normalization data 1 leyer and 100 epochs mean mse is {mean_mse_norm_100:.2f} and std is {std_mse_norm_100:.2f}\\n\\\n",
    "or difference in % mean {(mean_mse_norm/mean_mse_norm_100)*100:.2f}% and std difference is {(std_mse_norm/std_mse_norm_100)*100:.2f}% \\n\\n\\\n",
    "For normalization data and 4 additional layers mean mse is {mean_mse_norm_layers:.2f} and std is {std_mse_norm_layers:.2f}\\n\\\n",
    "or difference in % mean {(mean_mse_norm/mean_mse_norm_layers)*100:.2f}% and std difference is {(std_mse_norm/std_mse_norm_layers)*100:.2f}% \\n\\n\\\n",
    "For normalization data and 4 additional layers and 100 epochs mean mse is {mean_mse_norm_100_layers:.2f} and std is {std_mse_norm_100_layers:.2f} \\n\\\n",
    "or difference in % mean {(mean_mse_norm/mean_mse_norm_100_layers)*100:.2f}% and std difference is {(std_mse_norm/std_mse_norm_100_layers)*100:.2f}%')"
   ]
  },
  {
   "cell_type": "code",
   "execution_count": null,
   "id": "709a1155-6a5e-4b3b-94fd-3af52024c7bb",
   "metadata": {},
   "outputs": [],
   "source": []
  }
 ],
 "metadata": {
  "kernelspec": {
   "display_name": "Python",
   "language": "python",
   "name": "conda-env-python-py"
  },
  "language_info": {
   "codemirror_mode": {
    "name": "ipython",
    "version": 3
   },
   "file_extension": ".py",
   "mimetype": "text/x-python",
   "name": "python",
   "nbconvert_exporter": "python",
   "pygments_lexer": "ipython3",
   "version": "3.7.12"
  }
 },
 "nbformat": 4,
 "nbformat_minor": 5
}
